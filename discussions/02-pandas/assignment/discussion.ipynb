{
 "cells": [
  {
   "cell_type": "code",
   "execution_count": null,
   "metadata": {
    "deletable": false,
    "editable": false
   },
   "outputs": [],
   "source": [
    "# Initialize Otter\n",
    "import otter\n",
    "grader = otter.Notebook(\"discussion.ipynb\")"
   ]
  },
  {
   "cell_type": "markdown",
   "metadata": {},
   "source": [
    "# DSC 80 - Discussion 02\n",
    "\n",
    "### Due Date: Saturday October 9, 11:59 PM\n",
    "\n",
    "**Discussions will be due by the end of the day on Saturday**"
   ]
  },
  {
   "cell_type": "code",
   "execution_count": 1,
   "metadata": {},
   "outputs": [],
   "source": [
    "import pandas as pd\n",
    "import numpy as np\n",
    "import os"
   ]
  },
  {
   "cell_type": "code",
   "execution_count": 2,
   "metadata": {},
   "outputs": [],
   "source": [
    "%load_ext autoreload\n",
    "%autoreload 2"
   ]
  },
  {
   "cell_type": "code",
   "execution_count": 3,
   "metadata": {},
   "outputs": [],
   "source": [
    "from discussion import *"
   ]
  },
  {
   "cell_type": "markdown",
   "metadata": {},
   "source": [
    "### `DataFrames` in `Pandas` module"
   ]
  },
  {
   "cell_type": "markdown",
   "metadata": {},
   "source": [
    "We can make a dataframe in `pandas` using the class constructor `pandas.DataFrame`."
   ]
  },
  {
   "cell_type": "markdown",
   "metadata": {},
   "source": [
    "For example, suppose we know that individual number one has the following attributes:\n",
    "\n",
    "* Favorite letter: `a`\n",
    "* Number of games played: `9`\n",
    "* Points accumulated: `1`\n",
    "\n",
    "and we know the same attributes for individuals two, three, and four. To go about constructing a dataframe in this way, we can use a list of `numpy ndarrays` where each entry corresponds to a row in the dataframe:"
   ]
  },
  {
   "cell_type": "code",
   "execution_count": 4,
   "metadata": {},
   "outputs": [],
   "source": [
    "data = [\n",
    "    ['a', 9, 1], # row 1\n",
    "    ['b', 3, 2], # row 2\n",
    "    ['c', 3, 2], # row 3\n",
    "    ['z', 1, 10] # row 4\n",
    "]"
   ]
  },
  {
   "cell_type": "code",
   "execution_count": 5,
   "metadata": {},
   "outputs": [],
   "source": [
    "df1 = pd.DataFrame(data,                                     # rows of dataframe\n",
    "                   columns = ['letter', 'count', 'points'])  # column names \n",
    "df1"
   ]
  },
  {
   "cell_type": "markdown",
   "metadata": {},
   "source": [
    "Equivalently, we can define the same dataframe by specifying the columns instead of the rows:\n",
    "* This way of defining a dataframe closely resembles how the dataframe stores its underlying data.\n",
    "* Each column is homogeneous (represents the same type of quantity).\n",
    "\n",
    "Here, we also specify an index:"
   ]
  },
  {
   "cell_type": "code",
   "execution_count": 6,
   "metadata": {},
   "outputs": [],
   "source": [
    "dictionary = {'letter' : ['a', 'b', 'c', 'z'],  # {column name : values}\n",
    "              'count'  : [ 9,   3,   3,    1],  # {column name : values}\n",
    "              'points' : [ 1,   2,   2,   10]}  # {column name : values}\n",
    " \n",
    "df2 = pd.DataFrame(data=dictionary, index='i0 i1 i2 i3'.split())\n",
    "df2"
   ]
  },
  {
   "cell_type": "markdown",
   "metadata": {},
   "source": [
    "### Summary: `DataFrame` Constructor\n",
    "\n",
    "* `pd.DataFrame` creates a dataframe from:\n",
    "    * A dictionary of columns (`df2` above)\n",
    "    * A list of rows (`df1` above)\n",
    "* Optional (default) arguments include:\n",
    "    * `index`: can be array-like if your dataframe requires something other than a range from 0 to n\n",
    "    * `columns`: labels may be provided for column names (similar to `'letter'`, `'count'`, and `'points'` above) \n",
    "    * `dtype`: `None` is the default, `pandas` will infer based on the content of your columns.\n",
    "* Accepts any 'array-like' container (`list`, `np.ndarray`, `pd.Series`)\n",
    "    * Note the difference [here](https://stackoverflow.com/questions/15879315/what-is-the-difference-between-ndarray-and-array-in-numpy) between `np.ndarray` and `np.array`!\n",
    "    * The former is an actual data type, while the latter is a function to make arrays from other data structures.\n",
    "* Create small DataFrames to debug and understand your code!\n",
    "* DataFrame column labels:\n",
    "    * Accessed using the `columns` attribute\n",
    "    * Columns default to column number (0-indexed)"
   ]
  },
  {
   "cell_type": "markdown",
   "metadata": {},
   "source": [
    "### Select an Index or Column From a Pandas DataFrame"
   ]
  },
  {
   "cell_type": "code",
   "execution_count": 7,
   "metadata": {},
   "outputs": [],
   "source": [
    "# recall df2\n",
    "df2"
   ]
  },
  {
   "cell_type": "markdown",
   "metadata": {},
   "source": [
    "You want to access the value that is at index `0`, in column `count`. We saw in lecture a number of different ways to get our value `9` back."
   ]
  },
  {
   "cell_type": "code",
   "execution_count": 8,
   "metadata": {},
   "outputs": [],
   "source": [
    "df2.iloc[0]"
   ]
  },
  {
   "cell_type": "code",
   "execution_count": 9,
   "metadata": {},
   "outputs": [],
   "source": [
    "df2.iloc[0].loc['count']"
   ]
  },
  {
   "cell_type": "code",
   "execution_count": 10,
   "metadata": {},
   "outputs": [],
   "source": [
    "df2.loc['i0'].loc['count']"
   ]
  },
  {
   "cell_type": "markdown",
   "metadata": {},
   "source": [
    "The most important ones to remember are, without a doubt, `.loc[]` and `.iloc[]`.\n",
    "\n",
    "#### `iloc`\n",
    "\n",
    "* The `iloc` indexer for `Pandas Dataframe` is used for integer-location based indexing / selection by position.\n",
    "\n",
    "* The `iloc` indexer syntax is `data.iloc[<row selection>`, `<column selection>]`. `iloc` in pandas is used to select rows and columns by number, in the order that they appear in the data frame. \n",
    "\n",
    "* You can imagine that each row has a row number from 0 to the total rows (`data.shape[0]`) and `iloc[]` allows selections based on these numbers. The same applies for columns (ranging from 0 to `data.shape[1]`)\n",
    "    * Note that `.iloc` returns a `Pandas Series` when **one** row is selected, and a `Pandas DataFrame` when **multiple rows** are selected, or if any column in full is selected. \n",
    "    * To counter this, pass a single-valued list if you require `DataFrame` output."
   ]
  },
  {
   "cell_type": "code",
   "execution_count": 11,
   "metadata": {},
   "outputs": [],
   "source": [
    "print(type(df2.iloc[1]))        # result of type series becuase only one row selected\n",
    "\n",
    "print(type(df2.iloc[[1]]))      # result of type dataframe becuase list selection used\n",
    "\n",
    "print(type(df2.iloc[0:2]))      # result of type dataframe since only two ros are selected\n",
    "\n",
    "print(type(df2.iloc[0:2, 1]))   # result of type series becuase only one column is selected\n",
    "\n",
    "print(type(df2.iloc[0:2, [1]])) # result of type dataframe with only one column becuase list selection used\n",
    "\n",
    "print(type(df2.iloc[0:2, 0:2])) # result of type dataframe becuase multiple rows and columns selected"
   ]
  },
  {
   "cell_type": "markdown",
   "metadata": {},
   "source": [
    "####  `loc`\n",
    "\n",
    "The `Pandas` `loc` indexer can be used with DataFrames for two different main use cases:\n",
    "\n",
    "* Selecting rows by label/index\n",
    "* Selecting rows with a boolean/conditional lookup\n",
    "\n",
    "The `loc` indexer is used with the same syntax as `iloc`: `data.loc[<row selection>, <column selection>]`."
   ]
  },
  {
   "cell_type": "code",
   "execution_count": 12,
   "metadata": {},
   "outputs": [],
   "source": [
    "df2"
   ]
  },
  {
   "cell_type": "code",
   "execution_count": 13,
   "metadata": {},
   "outputs": [],
   "source": [
    "# label/index lookup\n",
    "df2.loc['i0']           # select first row\n",
    "\n",
    "df2.loc['i0', 'count']        # select element in count column from first row\n",
    "\n",
    "df2.loc[:, ['letter', 'count']]   # select letter and count columns; all rows"
   ]
  },
  {
   "cell_type": "markdown",
   "metadata": {},
   "source": [
    "### Boolean conditional selection with `loc`\n",
    "\n",
    "Recall that arrays can be compared using comparison operators (`<`,`>`,`==`,...), producing boolean arrays. These boolean arrays can be used to select rows according to those comparison conditions."
   ]
  },
  {
   "cell_type": "code",
   "execution_count": 14,
   "metadata": {},
   "outputs": [],
   "source": [
    "# boolean conditional lookup. What is the output of each of these (in plain english)?\n",
    "df2.loc[df2['letter'] == 'a']\n",
    "\n",
    "df2.loc[df2['count'] == 3, ['letter']]\n",
    "\n",
    "df2.loc[:, df2.loc['i1'].apply(type) == np.int64]"
   ]
  },
  {
   "cell_type": "markdown",
   "metadata": {},
   "source": [
    "We can combine boolean expressions using the NOT,AND,OR,XOR operators, to create compound expressions for selecting rows of dataframes. In the table below are the operators that can be used to create boolean arrays:\n",
    "\n",
    "![](bool_arr.png)"
   ]
  },
  {
   "cell_type": "markdown",
   "metadata": {},
   "source": [
    "For example, if you want to select all rows where `count` is 3 or `score` is 7, but not BOTH:"
   ]
  },
  {
   "cell_type": "code",
   "execution_count": 15,
   "metadata": {},
   "outputs": [],
   "source": [
    "count3 = df2['count'] == 3\n",
    "score7 = df2['points'] == 10\n",
    "bool_arr = count3 ^ score7\n",
    "df2.loc[bool_arr]"
   ]
  },
  {
   "cell_type": "markdown",
   "metadata": {},
   "source": [
    "## Modifying a Pandas `DataFrame`"
   ]
  },
  {
   "cell_type": "markdown",
   "metadata": {},
   "source": [
    "### Adding an Index, Row, or Column to a Pandas DataFrame\n",
    "\n",
    "#### Adding an Index to a Dataframe\n",
    "\n",
    "* When you create a DataFrame, you have the option to add input to the `index` argument to make sure that you have the index that you desire. \n",
    "* When you don’t specify this, your `DataFrame` will have, by default, a numerically valued index that starts with 0 and continues until the last row of your `DataFrame`.\n",
    "* However, even when your index is specified for you automatically, you still have the power to re-use one of your columns and make it your index. You can easily do this by calling `set_index()` on your DataFrame."
   ]
  },
  {
   "cell_type": "code",
   "execution_count": 16,
   "metadata": {},
   "outputs": [],
   "source": [
    "# let's make the 'letter' column our index\n",
    "df2.set_index('letter')"
   ]
  },
  {
   "cell_type": "markdown",
   "metadata": {},
   "source": [
    "#### Resetting the Index of Your DataFrame\n",
    "\n",
    "* When your index doesn’t look entirely the way you want it to, you can opt to reset it. \n",
    "* You can easily do this with `.reset_index()`. \n",
    "* However, you should still watch out, as you can pass several arguments that can make or break the success of your reset."
   ]
  },
  {
   "cell_type": "code",
   "execution_count": 17,
   "metadata": {},
   "outputs": [],
   "source": [
    "# Use `reset_index()` to reset the values. \n",
    "df2_reset = df2.reset_index(drop=False)\n",
    "\n",
    "# Print `df_reset`\n",
    "df2_reset"
   ]
  },
  {
   "cell_type": "markdown",
   "metadata": {},
   "source": [
    "#### Deleting a Column from Your DataFrame\n",
    "\n",
    "To get rid of (a selection of) columns from your DataFrame, you can use the drop() method:"
   ]
  },
  {
   "cell_type": "code",
   "execution_count": 18,
   "metadata": {},
   "outputs": [],
   "source": [
    "df2.drop(['points'], axis=1)"
   ]
  },
  {
   "cell_type": "code",
   "execution_count": 19,
   "metadata": {},
   "outputs": [],
   "source": [
    "# note: pandas methods return copies! Must reassign to change the dataframe\n",
    "df2_dropped = df2.drop(['points'], axis=1)\n",
    "df2_dropped"
   ]
  },
  {
   "cell_type": "markdown",
   "metadata": {},
   "source": [
    "This is not so straightforward; there are some extra arguments that are passed to the drop() method!\n",
    "\n",
    "* The axis argument is either 0 when it indicates rows and 1 when it is used to drop columns.\n",
    "* While Pandas has an `inplace` keyword to delete the column without having to reassign the DataFrame, **you should never use it**. Pandas code should always be written to return copies; this keyword will be removed in the future."
   ]
  },
  {
   "cell_type": "markdown",
   "metadata": {},
   "source": [
    "You can also use `loc` to filter columns using boolean arrays:"
   ]
  },
  {
   "cell_type": "code",
   "execution_count": 20,
   "metadata": {},
   "outputs": [],
   "source": [
    "df2.loc[:, ~(df2.columns == 'points')]"
   ]
  },
  {
   "cell_type": "markdown",
   "metadata": {},
   "source": [
    "#### Removing a Row from Your DataFrame\n",
    "\n",
    "You can remove rows most easily using the `loc` selector and creating appropriate conditions. There are also methods that drop rows based on common needs (`drop_duplicates`, `dropna`).\n",
    "\n",
    "Below are methods to drop the row corresponding to index `c`:"
   ]
  },
  {
   "cell_type": "code",
   "execution_count": 21,
   "metadata": {},
   "outputs": [],
   "source": [
    "df2"
   ]
  },
  {
   "cell_type": "code",
   "execution_count": 22,
   "metadata": {},
   "outputs": [],
   "source": [
    "# rarely used, but works\n",
    "\n",
    "# let's make the 'letter' column our index\n",
    "df2_c = df2.set_index('letter')\n",
    "\n",
    "df2_c.drop('c', axis=0)"
   ]
  },
  {
   "cell_type": "code",
   "execution_count": 23,
   "metadata": {},
   "outputs": [],
   "source": [
    "# better: conditioning using boolean arrays\n",
    "# '~' means 'not'\n",
    "\n",
    "df2_c.loc[~(df2_c.index == 'c')]"
   ]
  },
  {
   "cell_type": "markdown",
   "metadata": {},
   "source": [
    "## Tutorial: DataFrame Manipulation in Pandas"
   ]
  },
  {
   "cell_type": "code",
   "execution_count": 24,
   "metadata": {},
   "outputs": [],
   "source": [
    "# What is this? (discuss imports)\n",
    "%load_ext autoreload\n",
    "%autoreload 2"
   ]
  },
  {
   "cell_type": "code",
   "execution_count": 25,
   "metadata": {},
   "outputs": [],
   "source": [
    "from discussion import *"
   ]
  },
  {
   "cell_type": "markdown",
   "metadata": {},
   "source": [
    "**Question 1**: Construct a DataFrame with columns `names, scores, attempts,` and `qualify`, with values given in the lists below, which has the index `labels`. \n",
    "\n",
    "Once you have done this in the notebook, write a function `question01` in the `py` file that takes data (a collection of columns) and labels and that outputs this dataframe.\n",
    "\n",
    "```\n",
    "names = ['Anastasia', 'Dima', 'Katherine', 'James', 'Emily', 'Michael', 'Matthew', 'Laura', 'Kevin', 'Jonas']\n",
    "scores = [12.5, 9, 16.5, np.nan, 9, 20, 14.5, np.nan, 8, 19]\n",
    "attempts = [1, 3, 2, 3, 2, 3, 1, 1, 2, 1]\n",
    "qualify = ['yes', 'no', 'yes', 'no', 'no', 'yes', 'yes', 'no', 'no', 'yes']\n",
    "\n",
    "labels = ['a', 'b', 'c', 'd', 'e', 'f', 'g', 'h', 'i', 'j']\n",
    "```"
   ]
  },
  {
   "cell_type": "code",
   "execution_count": null,
   "metadata": {
    "tags": []
   },
   "outputs": [],
   "source": []
  },
  {
   "cell_type": "code",
   "execution_count": null,
   "metadata": {
    "tags": []
   },
   "outputs": [],
   "source": []
  },
  {
   "cell_type": "code",
   "execution_count": 28,
   "metadata": {},
   "outputs": [],
   "source": [
    "data = {'column1': [0, 3, 5, 6], 'column2': [1, 3, 2, 4]}\n",
    "labels = 'a b c d'.split()\n",
    "out = question01(data, labels)"
   ]
  },
  {
   "cell_type": "code",
   "execution_count": null,
   "metadata": {
    "deletable": false,
    "editable": false
   },
   "outputs": [],
   "source": [
    "grader.check(\"q1\")"
   ]
  },
  {
   "cell_type": "code",
   "execution_count": null,
   "metadata": {},
   "outputs": [],
   "source": []
  },
  {
   "cell_type": "code",
   "execution_count": null,
   "metadata": {},
   "outputs": [],
   "source": []
  },
  {
   "cell_type": "markdown",
   "metadata": {},
   "source": [
    "**Question 2**: Find the index-labels of numbers that are multiples of 3 from `ser`. In the notebook, put these positions in a list entitled `multiples`. Once finished, put your work in `question02` of the `py` file. \n",
    "\n",
    "That is, create a function `question02` that takes in a series like `ser` and outputs the index-labels that correspond to values that are multiples of 3."
   ]
  },
  {
   "cell_type": "code",
   "execution_count": null,
   "metadata": {
    "tags": []
   },
   "outputs": [],
   "source": []
  },
  {
   "cell_type": "code",
   "execution_count": null,
   "metadata": {
    "tags": []
   },
   "outputs": [],
   "source": []
  },
  {
   "cell_type": "code",
   "execution_count": 33,
   "metadata": {},
   "outputs": [],
   "source": [
    "out = question02(pd.Series([1, 3, 6, 9]))\n",
    "out1 = question02(pd.Series([3, 6, 9, 1]))"
   ]
  },
  {
   "cell_type": "code",
   "execution_count": null,
   "metadata": {
    "deletable": false,
    "editable": false
   },
   "outputs": [],
   "source": [
    "grader.check(\"q2\")"
   ]
  },
  {
   "cell_type": "markdown",
   "metadata": {},
   "source": [
    "## Congratulations! You're done!\n",
    "\n",
    "* Submit your `.py` file to Gradescope. Note that you only need to submit the `.py` file; this notebook should not be uploaded. Make sure that all of your work is in the `.py` file and not here by running the doctests: `python -m doctest discussion.py`."
   ]
  },
  {
   "cell_type": "markdown",
   "metadata": {
    "deletable": false,
    "editable": false
   },
   "source": [
    "---\n",
    "\n",
    "To double-check your work, the cell below will rerun all of the autograder tests."
   ]
  },
  {
   "cell_type": "code",
   "execution_count": null,
   "metadata": {
    "deletable": false,
    "editable": false
   },
   "outputs": [],
   "source": [
    "grader.check_all()"
   ]
  }
 ],
 "metadata": {
  "celltoolbar": "Tags",
  "kernel_info": {
   "name": "python3"
  },
  "kernelspec": {
   "display_name": "Python 3",
   "language": "python",
   "name": "python3"
  },
  "language_info": {
   "codemirror_mode": {
    "name": "ipython",
    "version": 3
   },
   "file_extension": ".py",
   "mimetype": "text/x-python",
   "name": "python",
   "nbconvert_exporter": "python",
   "pygments_lexer": "ipython3",
   "version": "3.8.9"
  },
  "nteract": {
   "version": "0.15.0"
  },
  "otter": {
   "tests": {
    "q1": {
     "name": "q1",
     "points": 6,
     "suites": [
      {
       "cases": [
        {
         "code": ">>> isinstance(out, pd.DataFrame)\nTrue",
         "failure_message": "doctest",
         "hidden": false,
         "locked": false,
         "points": 2
        },
        {
         "code": ">>> out.index.tolist() == 'a b c d'.split()\nTrue",
         "failure_message": "doctest",
         "hidden": false,
         "locked": false,
         "points": 2
        },
        {
         "code": ">>> out.loc['c', 'column1'] == 5\nTrue",
         "failure_message": "check entries",
         "hidden": false,
         "locked": false,
         "points": 2
        }
       ],
       "scored": true,
       "setup": "",
       "teardown": "",
       "type": "doctest"
      }
     ]
    },
    "q2": {
     "name": "q2",
     "points": 4,
     "suites": [
      {
       "cases": [
        {
         "code": ">>> out.tolist() == [1, 2, 3]\nTrue",
         "failure_message": "doctest",
         "hidden": false,
         "locked": false,
         "points": 2
        },
        {
         "code": ">>> out1.tolist() == [0, 1, 2]\nTrue",
         "failure_message": "doctest",
         "hidden": false,
         "locked": false,
         "points": 2
        }
       ],
       "scored": true,
       "setup": "",
       "teardown": "",
       "type": "doctest"
      }
     ]
    }
   }
  }
 },
 "nbformat": 4,
 "nbformat_minor": 2
}
