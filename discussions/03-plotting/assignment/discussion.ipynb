{
 "cells": [
  {
   "cell_type": "code",
   "execution_count": null,
   "metadata": {
    "deletable": false,
    "editable": false
   },
   "outputs": [],
   "source": [
    "# Initialize Otter\n",
    "import otter\n",
    "grader = otter.Notebook(\"discussion.ipynb\")"
   ]
  },
  {
   "cell_type": "markdown",
   "metadata": {},
   "source": [
    "# Discussion 3\n",
    "\n",
    "### Due Saturday October 16th, 11:59:59PM\n"
   ]
  },
  {
   "cell_type": "markdown",
   "metadata": {},
   "source": [
    "# Plotting: Pandas, Seaborn, Matplotlib\n",
    "\n",
    "* **Matplotlib:** Low-level plotting library built on Numpy; use it directly only when you need to!\n",
    "* **Pandas (plotting):** `.plot` dataFrame/Series methods conveniently plot tabular data (calls Matplotlib).\n",
    "* **Seaborn:** A python plotting library similar to R's ggplot; makes common statistical plots easy."
   ]
  },
  {
   "cell_type": "code",
   "execution_count": 1,
   "metadata": {},
   "outputs": [],
   "source": [
    "# magic command for displaying plots in notebook\n",
    "%matplotlib inline"
   ]
  },
  {
   "cell_type": "code",
   "execution_count": 2,
   "metadata": {},
   "outputs": [],
   "source": [
    "import pandas as pd\n",
    "import seaborn as sns\n",
    "import matplotlib\n",
    "import matplotlib.pyplot as plt\n",
    "import numpy as np"
   ]
  },
  {
   "cell_type": "code",
   "execution_count": 3,
   "metadata": {},
   "outputs": [],
   "source": [
    "from discussion import *"
   ]
  },
  {
   "cell_type": "markdown",
   "metadata": {},
   "source": [
    "## Plotting in `pandas` is as easy as `.plot()`\n",
    "\n",
    "* `Series.plot()` plots a column."
   ]
  },
  {
   "cell_type": "code",
   "execution_count": 5,
   "metadata": {},
   "outputs": [],
   "source": [
    "data = pd.read_csv('data/data.csv')"
   ]
  },
  {
   "cell_type": "code",
   "execution_count": 6,
   "metadata": {},
   "outputs": [],
   "source": [
    "data.head()"
   ]
  },
  {
   "cell_type": "code",
   "execution_count": 7,
   "metadata": {},
   "outputs": [],
   "source": [
    "# select a column from data\n",
    "z0 = data['z0']\n",
    "z0.head()"
   ]
  },
  {
   "cell_type": "markdown",
   "metadata": {},
   "source": [
    "* Use a line plot to plot numeric data.\n",
    "* `data.plot()` plots a line plot by default.\n",
    "    - The x-axis is the index by default\n",
    "    - Can be called out using the key-word argument `x`."
   ]
  },
  {
   "cell_type": "code",
   "execution_count": 8,
   "metadata": {},
   "outputs": [],
   "source": [
    "# index is [0...1000]\n",
    "z0.plot()"
   ]
  },
  {
   "cell_type": "code",
   "execution_count": 9,
   "metadata": {},
   "outputs": [],
   "source": [
    "# set index to plot correct x-axis\n",
    "z0 = data.set_index('x').loc[:, 'z0']\n",
    "z0.head()"
   ]
  },
  {
   "cell_type": "code",
   "execution_count": 10,
   "metadata": {},
   "outputs": [],
   "source": [
    "z0.plot()"
   ]
  },
  {
   "cell_type": "code",
   "execution_count": 11,
   "metadata": {},
   "outputs": [],
   "source": [
    "# set x-axis using a keyword argument\n",
    "data.plot(x='x', y='z0')"
   ]
  },
  {
   "cell_type": "markdown",
   "metadata": {},
   "source": [
    "### Plotting (quantitative) empirical distributions in Pandas\n",
    "\n",
    "* Use the key-word argument `kind`\n",
    "```\n",
    "kind : str\n",
    "    - 'hist' : histogram\n",
    "    - 'box' : boxplot\n",
    "    - 'kde' : Kernel Density Estimation plot\n",
    "    ...\n",
    "```\n",
    "* The `hist` keyword by default uses 10 bins, and returns the *count* of observations within those bins.\n",
    "    - use `density=True` to return a histogram whose area is normalized to 1."
   ]
  },
  {
   "cell_type": "code",
   "execution_count": 12,
   "metadata": {},
   "outputs": [],
   "source": [
    "# histogram of z0 values; \n",
    "# 25 bins.\n",
    "# density = normalized histogram\n",
    "\n",
    "z0.plot(kind='hist', bins=25, density=True)"
   ]
  },
  {
   "cell_type": "code",
   "execution_count": 13,
   "metadata": {},
   "outputs": [],
   "source": [
    "# kernel density estimate of the distribution\n",
    "# smooth approximation of the empirical distribution\n",
    "\n",
    "z0.plot(kind='kde')"
   ]
  },
  {
   "cell_type": "code",
   "execution_count": 14,
   "metadata": {},
   "outputs": [],
   "source": [
    "z0.plot(kind='box')"
   ]
  },
  {
   "cell_type": "markdown",
   "metadata": {},
   "source": [
    "### Plotting (categorical) empirical distributions in Pandas\n",
    "\n",
    "* Create a distribution from categorical columns using `value_counts`.\n",
    "* Categorical columns should use *bar charts*.\n",
    "* Use the key-word argument `kind`\n",
    "```\n",
    "kind : str\n",
    "    - 'bar' : vertical bar plot\n",
    "    - 'barh' : horizontal bar plot\n",
    "    ...\n",
    "```\n"
   ]
  },
  {
   "cell_type": "code",
   "execution_count": 15,
   "metadata": {},
   "outputs": [],
   "source": [
    "empdistr = data['id'].value_counts(normalize=True)\n",
    "empdistr"
   ]
  },
  {
   "cell_type": "code",
   "execution_count": 16,
   "metadata": {},
   "outputs": [],
   "source": [
    "# nominal column\n",
    "empdistr.plot(kind='bar')"
   ]
  },
  {
   "cell_type": "code",
   "execution_count": 17,
   "metadata": {},
   "outputs": [],
   "source": [
    "# ordinal column: the x-axis has a meaningful order\n",
    "empdistr.sort_index().plot(kind='bar')"
   ]
  },
  {
   "cell_type": "code",
   "execution_count": 18,
   "metadata": {},
   "outputs": [],
   "source": [
    "# horizontal bar chart\n",
    "empdistr.sort_index().plot(kind='barh')"
   ]
  },
  {
   "cell_type": "markdown",
   "metadata": {},
   "source": [
    "### Plotting `pandas` DataFrames\n",
    "* `DataFrame.plot()` plots the columns of a dataframe.\n",
    "* Want multiple plot on the same axis? Get the data into the columns of a dataframe!"
   ]
  },
  {
   "cell_type": "code",
   "execution_count": 19,
   "metadata": {},
   "outputs": [],
   "source": [
    "data.set_index('x').head()"
   ]
  },
  {
   "cell_type": "code",
   "execution_count": 20,
   "metadata": {},
   "outputs": [],
   "source": [
    "# plot columns 'z0' and 'z1' with 'x' used as the x-axis\n",
    "data.set_index('x')[['z0', 'z1']].plot()"
   ]
  },
  {
   "cell_type": "code",
   "execution_count": 21,
   "metadata": {},
   "outputs": [],
   "source": [
    "# plot columns 'z0' and 'z1' with 'x' used as the x-axis on seperate plots\n",
    "data.set_index('x')[['z0', 'z1']].plot(subplots=True);"
   ]
  },
  {
   "cell_type": "code",
   "execution_count": 22,
   "metadata": {},
   "outputs": [],
   "source": [
    "# plot all columns using 'x' as x-axis; elongate plots with 'figsize' keyword\n",
    "data.set_index('x').plot(subplots=True, figsize=(12,8));"
   ]
  },
  {
   "cell_type": "markdown",
   "metadata": {},
   "source": [
    "### Scatter-plots with Pandas\n",
    "* You can create scatter plots with `DataFrame.plot` by passing `kind='scatter'`. Scatter plot requires numeric columns for `x` and `y` axis. \n",
    "    * These can be specified by `x` and `y` keywords each.\n",
    "* To plot multiple column groups in a single axes, repeat plot method specifying target `ax`. It is recommended to specify color and label keywords to distinguish each groups."
   ]
  },
  {
   "cell_type": "code",
   "execution_count": 23,
   "metadata": {},
   "outputs": [],
   "source": [
    "data.plot(kind='scatter', x='z0', y='z1')"
   ]
  },
  {
   "cell_type": "code",
   "execution_count": 24,
   "metadata": {},
   "outputs": [],
   "source": [
    "# plot all the histograms and scatterplots in one plot!\n",
    "# univariate + bivariate analysis\n",
    "pd.plotting.scatter_matrix(data.drop(['id', 'x'], axis=1));"
   ]
  },
  {
   "cell_type": "code",
   "execution_count": 25,
   "metadata": {},
   "outputs": [],
   "source": [
    "df = pd.DataFrame(np.random.rand(50, 4), columns=['a', 'b', 'c', 'd'])\n",
    "\n",
    "df.plot(kind='scatter', x='a', y='b');"
   ]
  },
  {
   "cell_type": "markdown",
   "metadata": {},
   "source": [
    "There are other keywords that can be used with scatter. The keyword `c` may be given as the name of a column to provide colors for each point:"
   ]
  },
  {
   "cell_type": "code",
   "execution_count": 26,
   "metadata": {},
   "outputs": [],
   "source": [
    "samp = data.sample(100)"
   ]
  },
  {
   "cell_type": "code",
   "execution_count": 27,
   "metadata": {},
   "outputs": [],
   "source": [
    "samp.plot(kind='scatter', x='z0', y='z1', c='z3', s=50);"
   ]
  },
  {
   "cell_type": "markdown",
   "metadata": {},
   "source": [
    "You can pass other keywords supported by matplotlib `scatter`. The example below shows a bubble chart using a dataframe `column` values as bubble size."
   ]
  },
  {
   "cell_type": "code",
   "execution_count": 28,
   "metadata": {},
   "outputs": [],
   "source": [
    "samp.plot(kind='scatter', x='z0', y='z1', s=samp['x']);"
   ]
  },
  {
   "cell_type": "markdown",
   "metadata": {},
   "source": [
    "### Seaborn: pretty plotting made easy"
   ]
  },
  {
   "cell_type": "markdown",
   "metadata": {},
   "source": [
    "To install `seaborn`, open a terminal and enter: \n",
    "\n",
    "On your laptop:\n",
    "* `pip install seaborn==0.9`\n",
    "\n",
    "or, if you are on a shared server (e.g. on `datahub.ucsd.edu`):\n",
    "\n",
    "* `pip install --user seaborn==0.9`\n",
    "\n",
    "The `seaborn` documentation has a *great* series of tutorials: https://seaborn.pydata.org/tutorial.html\n"
   ]
  },
  {
   "cell_type": "code",
   "execution_count": 29,
   "metadata": {},
   "outputs": [],
   "source": [
    "import seaborn as sns\n",
    "sns.__version__"
   ]
  },
  {
   "cell_type": "markdown",
   "metadata": {},
   "source": [
    "#### `sns.scatterplot`\n",
    "* The relationship between `x` and `y` can be shown for different subsets of the data using the `hue`, `size`, and `style` parameters. \n",
    "* These parameters control what visual semantics are used to identify the different subsets. \n",
    "* It is possible to show up to three dimensions independently by using all three semantic types, but this style of plot can be hard to interpret and is often ineffective. \n",
    "    * Using redundant semantics (i.e. both `hue` and `style` for the same variable) can be helpful for making graphics more accessible."
   ]
  },
  {
   "cell_type": "markdown",
   "metadata": {},
   "source": [
    "Show a quantitative variable by using continuous colors:"
   ]
  },
  {
   "cell_type": "code",
   "execution_count": 30,
   "metadata": {},
   "outputs": [],
   "source": [
    "sns.scatterplot(data=data, x='z0', y='z1', hue='id')"
   ]
  },
  {
   "cell_type": "markdown",
   "metadata": {},
   "source": [
    "Also show a quantitative variable by varying the size of the points:"
   ]
  },
  {
   "cell_type": "code",
   "execution_count": 31,
   "metadata": {},
   "outputs": [],
   "source": [
    "sns.scatterplot(data=data, x='z0', y='z1', size='id')"
   ]
  },
  {
   "cell_type": "markdown",
   "metadata": {},
   "source": [
    "#### `sns.lmplot`\n",
    "\n",
    "Plot a simple linear relationship between two variables:"
   ]
  },
  {
   "cell_type": "code",
   "execution_count": 32,
   "metadata": {},
   "outputs": [],
   "source": [
    "# plot a line of best fit\n",
    "sns.lmplot(data=data, x='z0', y='z2');"
   ]
  },
  {
   "cell_type": "markdown",
   "metadata": {},
   "source": [
    "#### `sns.distplot`\n",
    "\n",
    "Plot the distribution with a histogram, kernel density estimate, and rug plot:"
   ]
  },
  {
   "cell_type": "code",
   "execution_count": 33,
   "metadata": {},
   "outputs": [],
   "source": [
    "z3 = data.sample(50)['z3']\n",
    "sns.distplot(z3, hist=True, kde=True, rug=True)"
   ]
  },
  {
   "cell_type": "markdown",
   "metadata": {},
   "source": [
    "#### `sns.boxplot`\n",
    "\n",
    "Draw a vertical boxplot grouped by a categorical variable:"
   ]
  },
  {
   "cell_type": "code",
   "execution_count": 34,
   "metadata": {},
   "outputs": [],
   "source": [
    "sns.boxplot(data=data, x='id', y='z2')"
   ]
  },
  {
   "cell_type": "markdown",
   "metadata": {},
   "source": [
    "## Custom plots with `matplotlib`\n",
    "\n",
    "* There are other great resources for learning the matplotlib API, for example, [this tutorial](https://www.southampton.ac.uk/~fangohr/training/python/notebooks/Matplotlib.html)"
   ]
  },
  {
   "cell_type": "code",
   "execution_count": 35,
   "metadata": {},
   "outputs": [],
   "source": [
    "import matplotlib.pyplot as plt"
   ]
  },
  {
   "cell_type": "markdown",
   "metadata": {},
   "source": [
    "### Matplotlib `axes` objects and Pandas plots\n",
    "\n",
    "* An 'Axes' object contains the elements of a single plot.\n",
    "    - contains a coordinate system (axis elements), \n",
    "    - the plot elements (e.g. line, bar), \n",
    "    - labels, \n",
    "    - tick-marks, etc.\n",
    "    \n",
    "* A `DataFrame.plot()` method call returns an `axes` object"
   ]
  },
  {
   "cell_type": "code",
   "execution_count": 36,
   "metadata": {},
   "outputs": [],
   "source": [
    "# notice the <matplotlib.axes._subplots.AxesSubplot at 0x1a21f7bcf8>\n",
    "data.set_index('x')['z0'].plot()"
   ]
  },
  {
   "cell_type": "code",
   "execution_count": 37,
   "metadata": {},
   "outputs": [],
   "source": [
    "# save the plot as an variable\n",
    "ax = data.set_index('x')['z0'].plot()"
   ]
  },
  {
   "cell_type": "code",
   "execution_count": 38,
   "metadata": {},
   "outputs": [],
   "source": [
    "# get name of x-axis\n",
    "ax.get_xlabel()"
   ]
  },
  {
   "cell_type": "code",
   "execution_count": 39,
   "metadata": {},
   "outputs": [],
   "source": [
    "# get y-axis tick-labels\n",
    "list(ax.get_yaxis().get_majorticklabels())"
   ]
  },
  {
   "cell_type": "code",
   "execution_count": 40,
   "metadata": {},
   "outputs": [],
   "source": [
    "ax = data.set_index('x')['z0'].plot()\n",
    "ax.set_xlabel('hi, this is my new axis label!')\n",
    "ax.set_title('hi this is my new title!');"
   ]
  },
  {
   "cell_type": "markdown",
   "metadata": {},
   "source": [
    "#### You can add elements to an Axes object\n",
    "\n",
    "* The Pandas `.plot` method can add a plot to an existing Axes object using the `ax` keyword"
   ]
  },
  {
   "cell_type": "code",
   "execution_count": 41,
   "metadata": {},
   "outputs": [],
   "source": [
    "ax = data['z0'].plot()\n",
    "\n",
    "# add z1 to Axes\n",
    "data['z1'].plot(ax=ax)\n",
    "\n",
    "# add a vertical line using matplotlib\n",
    "plt.plot([40,40],[-400, 300])\n",
    "\n",
    "# add a point using matplotlib\n",
    "plt.plot(15,-200, marker='x', markersize=10, color='red')"
   ]
  },
  {
   "cell_type": "markdown",
   "metadata": {},
   "source": [
    "#### You can add a scatterplot to an existing scatterplot"
   ]
  },
  {
   "cell_type": "code",
   "execution_count": 42,
   "metadata": {},
   "outputs": [],
   "source": [
    "ax = data.plot(kind='scatter', x='z0', y='z1', alpha=0.3)\n",
    "\n",
    "# the 'ax' keyword in Pandas plot method attaches the new plot to an existing Axes object\n",
    "data.plot(kind='scatter', x='z0', y='z3', ax=ax, c='g', alpha=0.3)"
   ]
  },
  {
   "cell_type": "markdown",
   "metadata": {
    "collapsed": true
   },
   "source": [
    "### Matplotlib `figure` and adding to empty subplots\n",
    "\n",
    "* A 'Figure' object is a top-level container for all plotting objects.\n",
    "    - controls overall size, title, fonts, coordination between different elements of subplots.\n",
    "\n",
    "<img src=\"https://i.stack.imgur.com/HZWkV.png\" width=\"25%\">  \n",
    "\n",
    "* Instantiate an empty figure containing multiple plots with `plt.subplots`\n",
    "    - `fig, axes = plt.subplots(R, C)` returns a figure `fig` and an multi-array of `axes`.\n",
    "    - `axes` has `R` rows and `C` columns corresponding to the subplots laid out on a grid.\n",
    "    - The `axes` are initially empty; they need to be given data to plot.\n",
    "   "
   ]
  },
  {
   "cell_type": "code",
   "execution_count": 43,
   "metadata": {},
   "outputs": [],
   "source": [
    "fig, axes = plt.subplots(1, 2)"
   ]
  },
  {
   "cell_type": "code",
   "execution_count": 44,
   "metadata": {},
   "outputs": [],
   "source": [
    "len(axes), type(axes), type(axes[0])"
   ]
  },
  {
   "cell_type": "code",
   "execution_count": 45,
   "metadata": {},
   "outputs": [],
   "source": [
    "fig, axes = plt.subplots(1, 2, figsize=(12,4))\n",
    "\n",
    "df = data.set_index('x')\n",
    "df['z0'].plot(ax=axes[0], title='z0')\n",
    "df['z1'].plot(ax=axes[1], title='z1')"
   ]
  },
  {
   "cell_type": "code",
   "execution_count": 46,
   "metadata": {},
   "outputs": [],
   "source": [
    "fig, axes = plt.subplots(2, 1, sharex=True)\n",
    "\n",
    "df = data.set_index('x')\n",
    "df['z0'].plot(ax=axes[0], title='z0')\n",
    "df['z1'].plot(ax=axes[1], title='z1')"
   ]
  },
  {
   "cell_type": "markdown",
   "metadata": {},
   "source": [
    "### Practice: plots and groupby\n",
    "\n",
    "* Can we plot histograms of `z2` for each value of `id`?"
   ]
  },
  {
   "cell_type": "code",
   "execution_count": 47,
   "metadata": {},
   "outputs": [],
   "source": [
    "# Hard to understand!\n",
    "data.drop('x', axis=1).groupby('id')['z2'].plot(kind='hist', alpha=0.3);"
   ]
  },
  {
   "cell_type": "code",
   "execution_count": 48,
   "metadata": {},
   "outputs": [],
   "source": [
    "data['id'].nunique()"
   ]
  },
  {
   "cell_type": "code",
   "execution_count": 49,
   "metadata": {},
   "outputs": [],
   "source": [
    "grps = data.groupby('id')\n",
    "for k, gp in grps:\n",
    "    print('**** ' + str(k) + ' ****', grps.get_group(k).head().to_string(), sep='\\n', end='\\n\\n')"
   ]
  },
  {
   "cell_type": "code",
   "execution_count": 50,
   "metadata": {},
   "outputs": [],
   "source": [
    "fig, axes = plt.subplots(2, 2, sharex=True, sharey=True)\n",
    "\n",
    "for k, gp in data.groupby('id'):\n",
    "    x_idx = k // 2\n",
    "    y_idx = k % 2\n",
    "    ax = axes[x_idx, y_idx]\n",
    "    title = 'id = %d' % k\n",
    "    gp['z2'].plot(kind='hist', density=True, ax=ax, title=title)\n",
    "    \n",
    "fig.suptitle('Distribution of z2 by id-number');\n"
   ]
  },
  {
   "cell_type": "markdown",
   "metadata": {
    "collapsed": true
   },
   "source": [
    "**Question (Optional)**: Can you plot the histograms of each column by `id`? Each row should contain the histograms by `id` of a single variable (there should be 3 rows and 4 columns). Write this generally enough to handle an arbitrary number of variables and values of `id`."
   ]
  },
  {
   "cell_type": "code",
   "execution_count": null,
   "metadata": {},
   "outputs": [],
   "source": []
  },
  {
   "cell_type": "markdown",
   "metadata": {},
   "source": [
    "### Practice problems\n",
    "\n",
    "* Below is a dataset in the seaborn package that contains data on restaurant bills and (service) tips.\n",
    "* Try to understand the dataset via plotting using the examples in the notebook.\n",
    "    - Plot histograms and boxplots for quantitative columns\n",
    "    - Plot counts of categorical values using bar plots\n",
    "    - Plot a scatter plot of `tip` vs `total_bill` -- is the relationship linear?"
   ]
  },
  {
   "cell_type": "code",
   "execution_count": 51,
   "metadata": {},
   "outputs": [],
   "source": [
    "tips = sns.load_dataset('tips')"
   ]
  },
  {
   "cell_type": "code",
   "execution_count": 52,
   "metadata": {},
   "outputs": [],
   "source": [
    "tips.head()"
   ]
  },
  {
   "cell_type": "code",
   "execution_count": null,
   "metadata": {},
   "outputs": [],
   "source": []
  },
  {
   "cell_type": "code",
   "execution_count": null,
   "metadata": {},
   "outputs": [],
   "source": []
  },
  {
   "cell_type": "code",
   "execution_count": null,
   "metadata": {},
   "outputs": [],
   "source": []
  },
  {
   "cell_type": "markdown",
   "metadata": {},
   "source": [
    "**Question 1**\n",
    "\n",
    "Plot the counts of meals in `tips` by day. Your plotting function, `plot_meal_by_day` should return an `matplotlib.axes._subplots.AxesSubplot` object; your plot should look like the plot below.\n",
    "\n",
    "<img src=\"imgs/barh.png\" width=\"50%\"/>"
   ]
  },
  {
   "cell_type": "code",
   "execution_count": null,
   "metadata": {},
   "outputs": [],
   "source": []
  },
  {
   "cell_type": "code",
   "execution_count": null,
   "metadata": {},
   "outputs": [],
   "source": []
  },
  {
   "cell_type": "code",
   "execution_count": 54,
   "metadata": {},
   "outputs": [],
   "source": [
    "# don't change this cell -- it is needed for the tests to work\n",
    "tips = sns.load_dataset('tips')\n",
    "q1_fig = plot_meal_by_day(tips)"
   ]
  },
  {
   "cell_type": "code",
   "execution_count": null,
   "metadata": {
    "deletable": false,
    "editable": false
   },
   "outputs": [],
   "source": [
    "grader.check(\"q1\")"
   ]
  },
  {
   "cell_type": "markdown",
   "metadata": {},
   "source": [
    "**Question 2**\n",
    "\n",
    "Plot a seaborn scatterplot using the `tips` data by day. Your plotting function, `plot_bill_by_tip` should return a `matplotlib.axes._subplots.AxesSubplot` object; your plot should look like the plot below.\n",
    "* `tip` is on the x-axis.\n",
    "* `total_bill` is on the y-axis.\n",
    "* color of the dots are given by `day`.\n",
    "* size of the dots are given by `size` of the table.\n",
    "\n",
    "<img src=\"imgs/scatter.png\" width=\"50%\"/>"
   ]
  },
  {
   "cell_type": "code",
   "execution_count": null,
   "metadata": {},
   "outputs": [],
   "source": []
  },
  {
   "cell_type": "code",
   "execution_count": null,
   "metadata": {},
   "outputs": [],
   "source": []
  },
  {
   "cell_type": "code",
   "execution_count": 59,
   "metadata": {},
   "outputs": [],
   "source": [
    "# don't change this cell -- it is needed for the tests to work\n",
    "tips = sns.load_dataset('tips')\n",
    "q2_fig = plot_bill_by_tip(tips)"
   ]
  },
  {
   "cell_type": "code",
   "execution_count": null,
   "metadata": {
    "deletable": false,
    "editable": false
   },
   "outputs": [],
   "source": [
    "grader.check(\"q2\")"
   ]
  },
  {
   "cell_type": "markdown",
   "metadata": {},
   "source": [
    "**Question 3**\n",
    "\n",
    "Plot a figure with two subplots side-by-side. The left plot should contain the **counts** of tips *as a percentage of the total bill*. The right plot should contain the **density plot** of tips as a percentage of the total bill. Your plotting function, `plot_tip_percentages` should return a `matplotlib.Figure` object; your plot should look like the plot below (use 10 bins).\n",
    "\n",
    "<img src=\"imgs/hist.png\" width=\"50%\"/>"
   ]
  },
  {
   "cell_type": "code",
   "execution_count": null,
   "metadata": {},
   "outputs": [],
   "source": []
  },
  {
   "cell_type": "code",
   "execution_count": null,
   "metadata": {},
   "outputs": [],
   "source": []
  },
  {
   "cell_type": "code",
   "execution_count": 64,
   "metadata": {},
   "outputs": [],
   "source": [
    "fig, axes = plt.subplots(1, 2)\n",
    "\n",
    "# plot axes[0]\n",
    "...\n",
    "# plot axes[1]\n",
    "...\n",
    "# add the title to fig\n",
    "..."
   ]
  },
  {
   "cell_type": "code",
   "execution_count": 65,
   "metadata": {},
   "outputs": [],
   "source": [
    "# don't change this cell -- it is needed for the tests to work\n",
    "tips = sns.load_dataset('tips')\n",
    "q3_fig = plot_tip_percentages(tips)"
   ]
  },
  {
   "cell_type": "code",
   "execution_count": null,
   "metadata": {
    "deletable": false,
    "editable": false
   },
   "outputs": [],
   "source": [
    "grader.check(\"q3\")"
   ]
  },
  {
   "cell_type": "markdown",
   "metadata": {},
   "source": [
    "## Congratulations! You're done!\n",
    "\n",
    "* Submit your `.py` file to Gradescope. Note that you only need to submit the `.py` file; this notebook should not be uploaded. Make sure that all of your work is in the `.py` file and not here by running the doctests: `python -m doctest discussion.py`."
   ]
  },
  {
   "cell_type": "markdown",
   "metadata": {
    "deletable": false,
    "editable": false
   },
   "source": [
    "---\n",
    "\n",
    "To double-check your work, the cell below will rerun all of the autograder tests."
   ]
  },
  {
   "cell_type": "code",
   "execution_count": null,
   "metadata": {
    "deletable": false,
    "editable": false
   },
   "outputs": [],
   "source": [
    "grader.check_all()"
   ]
  }
 ],
 "metadata": {
  "celltoolbar": "Tags",
  "kernelspec": {
   "display_name": "Python 3",
   "language": "python",
   "name": "python3"
  },
  "language_info": {
   "codemirror_mode": {
    "name": "ipython",
    "version": 3
   },
   "file_extension": ".py",
   "mimetype": "text/x-python",
   "name": "python",
   "nbconvert_exporter": "python",
   "pygments_lexer": "ipython3",
   "version": "3.8.9"
  },
  "otter": {
   "tests": {
    "q1": {
     "name": "q1",
     "points": null,
     "suites": [
      {
       "cases": [
        {
         "code": ">>> isinstance(q1_fig, matplotlib.figure.Figure)\nTrue",
         "failure_message": "doctest",
         "hidden": false,
         "locked": false,
         "points": 1
        },
        {
         "code": ">>> q1_fig.get_axes()[0].get_title()\n'Counts of meals by day'",
         "failure_message": "need correct title",
         "hidden": false,
         "locked": false,
         "points": 1
        },
        {
         "code": ">>> [str(x.get_text()) for x in q1_fig.get_axes()[0].get_yticklabels()]\n['Thur', 'Fri', 'Sat', 'Sun']",
         "failure_message": "y-axis sorted and labeled correctly?",
         "hidden": false,
         "locked": false,
         "points": 1
        }
       ],
       "scored": true,
       "setup": "",
       "teardown": "",
       "type": "doctest"
      }
     ]
    },
    "q2": {
     "name": "q2",
     "points": null,
     "suites": [
      {
       "cases": [
        {
         "code": ">>> isinstance(q2_fig, matplotlib.figure.Figure)\nTrue",
         "failure_message": "doctest",
         "hidden": false,
         "locked": false,
         "points": 1
        },
        {
         "code": ">>> q2_fig.get_axes()[0].get_xlabel()\n'tip'",
         "failure_message": "x-axis label incorrect",
         "hidden": false,
         "locked": false,
         "points": 1
        },
        {
         "code": ">>> q2_fig.get_axes()[0].get_ylabel()\n'total_bill'",
         "failure_message": "y-axis label incorrect",
         "hidden": false,
         "locked": false,
         "points": 1
        }
       ],
       "scored": true,
       "setup": "",
       "teardown": "",
       "type": "doctest"
      }
     ]
    },
    "q3": {
     "name": "q3",
     "points": null,
     "suites": [
      {
       "cases": [
        {
         "code": ">>> isinstance(q3_fig, matplotlib.figure.Figure)\nTrue",
         "failure_message": "doctest",
         "hidden": false,
         "locked": false,
         "points": 1
        },
        {
         "code": ">>> len(q3_fig.get_axes()) == 2\nTrue",
         "failure_message": "need two plots (axes)",
         "hidden": false,
         "locked": false,
         "points": 1
        },
        {
         "code": ">>> q3_fig.get_axes()[0].get_title()\n'counts'",
         "failure_message": "left plot does not have correct title",
         "hidden": false,
         "locked": false,
         "points": 1
        },
        {
         "code": ">>> q3_fig.get_axes()[1].get_title()\n'normalized'",
         "failure_message": "right plot does not have correct title",
         "hidden": false,
         "locked": false,
         "points": 1
        }
       ],
       "scored": true,
       "setup": "",
       "teardown": "",
       "type": "doctest"
      }
     ]
    }
   }
  }
 },
 "nbformat": 4,
 "nbformat_minor": 2
}
