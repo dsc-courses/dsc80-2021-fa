{
 "cells": [
  {
   "cell_type": "code",
   "execution_count": null,
   "metadata": {
    "slideshow": {
     "slide_type": "skip"
    }
   },
   "outputs": [],
   "source": [
    "import pandas as pd\n",
    "import numpy as np"
   ]
  },
  {
   "cell_type": "markdown",
   "metadata": {
    "slideshow": {
     "slide_type": "slide"
    }
   },
   "source": [
    "### Lecture 5 - Part 1\n",
    "\n",
    "# Data Granularity"
   ]
  },
  {
   "cell_type": "markdown",
   "metadata": {
    "slideshow": {
     "slide_type": "slide"
    }
   },
   "source": [
    "## Data Granularity: What is an Individual?\n",
    "\n",
    "<div class=\"image-txt-container\">\n",
    "\n",
    "- Tables consist of:\n",
    "    - rows (individuals)\n",
    "    - columns (measurements)\n",
    "\n",
    "\n",
    "|Name|State|Color|Food|Date of Survey|\n",
    "|---|---|---|---|---|\n",
    "|Jane|NY|blue|Steak|2018|\n",
    "|Aaron|CA|red|Mango|2017|\n",
    "|Marina|IL|green|Apple|2015|\n",
    "|...|...|...|...|...|\n",
    "\n",
    "</div>    \n",
    "\n",
    "What is an individual? A person? A survey response?\n"
   ]
  },
  {
   "cell_type": "markdown",
   "metadata": {
    "slideshow": {
     "slide_type": "slide"
    }
   },
   "source": [
    "## Website Visits\n",
    "\n",
    "<div class=\"image-txt-container\">\n",
    "    \n",
    "<img src=\"imgs/netflix.png\" width=\"50%\">\n",
    "\n",
    "\n",
    "* **Types of Individuals**\n",
    "* Visits to netflix (browsing; video streamed)\n",
    "* Customer accounts (paid subscriptions)\n",
    "\n",
    "</div>\n"
   ]
  },
  {
   "cell_type": "markdown",
   "metadata": {
    "slideshow": {
     "slide_type": "slide"
    }
   },
   "source": [
    "## Website Visits\n",
    "\n",
    "<div class=\"image-txt-container\">\n",
    "    \n",
    "<img src=\"imgs/netflix.png\" width=\"50%\">\n",
    "\n",
    "\n",
    "- ~60M page visits/day\n",
    "- ~140M paid subscribers\n",
    "- 15M devices/day \n",
    "    * shared accounts?\n",
    "\n",
    "</div>\n",
    "\n",
    "\n"
   ]
  },
  {
   "cell_type": "markdown",
   "metadata": {
    "slideshow": {
     "slide_type": "slide"
    }
   },
   "source": [
    "# Design phase\n",
    "\n",
    "If you can control how your dataset is created then you should opt for a *finer granularity*.\n",
    "\n",
    "**Advantages**\n",
    "\n",
    "- We can change a fine granularity to a coarse one if needed (how?)\n",
    "    - can't go from coarse to fine\n",
    "- No need to collect additional data (saves time)\n",
    "\n",
    "\n",
    "**Disadvantages**\n",
    "\n",
    "- Expensive to collect\n",
    "- Takes space\n",
    "\n"
   ]
  },
  {
   "cell_type": "markdown",
   "metadata": {
    "slideshow": {
     "slide_type": "slide"
    }
   },
   "source": [
    "# Manipulating Granularity\n",
    "\n",
    "* From the example above we saw that data can be represented in different levels. \n",
    "\n",
    "* In order to work with data from different tables we can change the granularity of the data. \n",
    "\n",
    "* The examples below will show you a techniques that allow you to manipulate granularity.\n",
    "\n"
   ]
  },
  {
   "cell_type": "markdown",
   "metadata": {
    "slideshow": {
     "slide_type": "slide"
    }
   },
   "source": [
    "### Discussion Question\n",
    "\n",
    "Given the table below, for each color, what proportion identify as 'M'?\n",
    "* Return your answer as a Series, indexed by color.\n",
    "* Try it first for one color.\n",
    "* What's the time complexity of your approach on a table with $n$ rows?\n",
    "* How many passes through the data does your solution require?\n"
   ]
  },
  {
   "cell_type": "code",
   "execution_count": null,
   "metadata": {},
   "outputs": [],
   "source": [
    "people = pd.DataFrame(\n",
    "    [[\"Joey\", \"blue\", 42,\"M\"],\n",
    "     [\"Weiwei\",\"blue\", 50,\"F\"],\n",
    "     [\"Joey\", \"green\", 8,\"M\"],\n",
    "     [\"Karina\", \"green\",7, \"F\"],\n",
    "     [\"Fernando\", \"pink\", -9,\"M\"],\n",
    "     [\"Nhi\",\"blue\",3,\"F\"],\n",
    "     [\"Sam\",\"pink\", -42,\"X\"]], \n",
    "    columns = [\"Name\", \"FavColor\", \"Number\", \"Gender\"])\n",
    "people"
   ]
  },
  {
   "cell_type": "markdown",
   "metadata": {
    "slideshow": {
     "slide_type": "slide"
    }
   },
   "source": [
    "### Approach 1: 'looping through unique values'\n",
    "\n",
    "* How many passes through the data?\n",
    "* What are the space constraints?"
   ]
  },
  {
   "cell_type": "code",
   "execution_count": null,
   "metadata": {},
   "outputs": [],
   "source": [
    "colors = {}\n",
    "for color in people['FavColor'].unique():\n",
    "    filtered_for_color = people.loc[people['FavColor'] == color, : ]   # filter by color\n",
    "    colors[color] = (filtered_for_color['Gender'] == 'M').mean()    # boolean array for \"M\" and take the mean\n",
    "\n",
    "pd.Series(colors)"
   ]
  },
  {
   "cell_type": "markdown",
   "metadata": {
    "slideshow": {
     "slide_type": "slide"
    }
   },
   "source": [
    "### Approach 2: 'single pass'"
   ]
  },
  {
   "cell_type": "code",
   "execution_count": null,
   "metadata": {},
   "outputs": [],
   "source": [
    "people"
   ]
  },
  {
   "cell_type": "code",
   "execution_count": null,
   "metadata": {},
   "outputs": [],
   "source": [
    "colors = {}                                                  # dict\n",
    "for idx, row in people.iterrows():                            \n",
    "    print(row)\n",
    "    "
   ]
  },
  {
   "cell_type": "code",
   "execution_count": null,
   "metadata": {},
   "outputs": [],
   "source": [
    "colors = {}                                                  # dict\n",
    "for idx, row in people.iterrows():                            \n",
    "    \n",
    "    color = row['FavColor']\n",
    "    is_male = int(row['Gender'] == 'M')\n",
    "    if color in colors:\n",
    "        colors[color] += np.array([1, is_male])\n",
    "    else:\n",
    "        colors[color] = np.array([1, is_male])\n",
    "\n",
    "colors"
   ]
  },
  {
   "cell_type": "code",
   "execution_count": null,
   "metadata": {},
   "outputs": [],
   "source": [
    "df = pd.DataFrame(colors, index=['total', 'is_male'])\n",
    "(df.loc['is_male'] / df.loc['total'])"
   ]
  },
  {
   "cell_type": "markdown",
   "metadata": {
    "slideshow": {
     "slide_type": "slide"
    }
   },
   "source": [
    "### Issues with above solutions:\n",
    "\n",
    "* Ad-hoc solution that depends on the specific problem.\n",
    "* Loops in *python* are slow (though the *algorithmic reasoning* is still relevant).\n",
    "\n",
    "What are the *common patterns* in processing 'groups of data'?"
   ]
  },
  {
   "cell_type": "markdown",
   "metadata": {
    "slideshow": {
     "slide_type": "slide"
    }
   },
   "source": [
    "### Part 2\n",
    "\n",
    "# GroupBy"
   ]
  },
  {
   "cell_type": "markdown",
   "metadata": {
    "slideshow": {
     "slide_type": "slide"
    }
   },
   "source": [
    "## Grouping and Aggregating Data\n",
    "\n",
    "**split-apply-combine**\n",
    "\n",
    "<img src=\"imgs/image_0.png\"/>\n",
    "\n",
    "\n",
    "**Aggregation** is the process of turning the values of a dataset (or a subset of it) into one single value.\n"
   ]
  },
  {
   "cell_type": "markdown",
   "metadata": {
    "slideshow": {
     "slide_type": "slide"
    }
   },
   "source": [
    "### Pandas `groupby`\n",
    "\n",
    "* **split** breaks up and groups the rows of a `DataFrame` depending on the value of the specified key.\n",
    "* **apply** computes a function (e.g. aggregate, transformation, or filtering) within the individual groups.\n",
    "* **combine** merges the results of these operations into an output array.\n"
   ]
  },
  {
   "cell_type": "markdown",
   "metadata": {
    "slideshow": {
     "slide_type": "slide"
    }
   },
   "source": [
    "### How `groupby` computes\n",
    "\n",
    "* The `groupby` can (often) do this in a *single* pass over the data, updating the sum, mean, count, min, or other aggregate for each group along the way. \n",
    "\n",
    "* `groupby` abstracts away these steps: the user need not think about *how* the computation is done under the hood, but rather thinks about the *operation as a whole*.\n",
    "\n",
    "* Big data tools use the same design pattern to send the computations on each group across *many computers*."
   ]
  },
  {
   "cell_type": "markdown",
   "metadata": {
    "slideshow": {
     "slide_type": "slide"
    }
   },
   "source": [
    "### `groupby` example\n",
    "\n",
    "Given the table below, for each color, what proportion identify as 'M'?"
   ]
  },
  {
   "cell_type": "code",
   "execution_count": null,
   "metadata": {},
   "outputs": [],
   "source": [
    "people"
   ]
  },
  {
   "cell_type": "code",
   "execution_count": null,
   "metadata": {},
   "outputs": [],
   "source": [
    "people = people.assign(\n",
    "        is_male=(people['Gender'] == 'M')\n",
    "    )"
   ]
  },
  {
   "cell_type": "code",
   "execution_count": null,
   "metadata": {},
   "outputs": [],
   "source": [
    "(\n",
    "    people\n",
    "    .groupby('FavColor')\n",
    "    .mean()\n",
    ")['is_male']"
   ]
  },
  {
   "cell_type": "markdown",
   "metadata": {
    "slideshow": {
     "slide_type": "slide"
    }
   },
   "source": [
    "## Accessing groups\n",
    "\n",
    "* `dataframe.groupby(key)` returns a `DataFrameGroupBy` object.\n",
    "* `.groups` is a dictionary of grouping keys and the row labels in each group\n",
    "* `.get_group(key)` method returns a dataframe corresponding to the given key\n",
    "* We usually don't use these directly, but useful to see what groups look like.\n"
   ]
  },
  {
   "cell_type": "code",
   "execution_count": null,
   "metadata": {},
   "outputs": [],
   "source": [
    "# The `groupby` operator groups rows in the table that are the same in one or more columns.\n",
    "\n",
    "grps = people.groupby(\"FavColor\")\n",
    "grps"
   ]
  },
  {
   "cell_type": "code",
   "execution_count": null,
   "metadata": {},
   "outputs": [],
   "source": [
    "people"
   ]
  },
  {
   "cell_type": "code",
   "execution_count": null,
   "metadata": {},
   "outputs": [],
   "source": [
    "grps.groups"
   ]
  },
  {
   "cell_type": "code",
   "execution_count": null,
   "metadata": {},
   "outputs": [],
   "source": [
    "grps.size()"
   ]
  },
  {
   "cell_type": "code",
   "execution_count": null,
   "metadata": {},
   "outputs": [],
   "source": [
    "grps.get_group('blue')"
   ]
  },
  {
   "cell_type": "code",
   "execution_count": null,
   "metadata": {},
   "outputs": [],
   "source": [
    "for key, item in grps:\n",
    "    print(key)\n",
    "    print('=' * len(key))\n",
    "    print(grps.get_group(key))\n",
    "    print()\n",
    "    print()"
   ]
  },
  {
   "cell_type": "code",
   "execution_count": null,
   "metadata": {},
   "outputs": [],
   "source": []
  },
  {
   "cell_type": "code",
   "execution_count": null,
   "metadata": {},
   "outputs": [],
   "source": []
  },
  {
   "cell_type": "code",
   "execution_count": null,
   "metadata": {},
   "outputs": [],
   "source": []
  },
  {
   "cell_type": "markdown",
   "metadata": {
    "slideshow": {
     "slide_type": "slide"
    }
   },
   "source": [
    "## `DataFrameGroupBy` objects\n",
    "\n",
    "* `dataframe.groupby(key)` returns a `DataFrameGroupBy` object.\n",
    "- To perform an aggregation, use an aggregator method: `.mean()`, `.max()`, `.median()`, etc."
   ]
  },
  {
   "cell_type": "code",
   "execution_count": null,
   "metadata": {},
   "outputs": [],
   "source": [
    "people"
   ]
  },
  {
   "cell_type": "code",
   "execution_count": null,
   "metadata": {},
   "outputs": [],
   "source": [
    "# The `groupby` operator groups rows in the table that are the same in one or more columns.\n",
    "\n",
    "grps = people.groupby(\"FavColor\")\n",
    "grps"
   ]
  },
  {
   "cell_type": "code",
   "execution_count": null,
   "metadata": {},
   "outputs": [],
   "source": [
    "grps.max()"
   ]
  },
  {
   "cell_type": "code",
   "execution_count": null,
   "metadata": {},
   "outputs": [],
   "source": [
    "grps.max()"
   ]
  },
  {
   "cell_type": "code",
   "execution_count": null,
   "metadata": {},
   "outputs": [],
   "source": [
    "grps.sum()"
   ]
  },
  {
   "cell_type": "markdown",
   "metadata": {
    "slideshow": {
     "slide_type": "slide"
    }
   },
   "source": [
    "### `groupby` and column selection\n",
    "\n",
    "- By default, aggregator will be applied to *all* columns (that it makes sense to apply to).\n",
    "- If we only care about one column, we can apply to only that column.\n",
    "- `DataFrameGroupBy` objects support `[]` notation:\n",
    "    - e.g., `df.groupby(\"Region\")[\"Sales\"].mean()` "
   ]
  },
  {
   "cell_type": "code",
   "execution_count": null,
   "metadata": {},
   "outputs": [],
   "source": [
    "people"
   ]
  },
  {
   "cell_type": "code",
   "execution_count": null,
   "metadata": {},
   "outputs": [],
   "source": [
    "people.groupby('FavColor').mean()"
   ]
  },
  {
   "cell_type": "code",
   "execution_count": null,
   "metadata": {},
   "outputs": [],
   "source": [
    "people.groupby(\"FavColor\")[\"Number\"]"
   ]
  },
  {
   "cell_type": "code",
   "execution_count": null,
   "metadata": {},
   "outputs": [],
   "source": [
    "people.groupby(\"FavColor\")[\"Number\"].mean()"
   ]
  },
  {
   "cell_type": "code",
   "execution_count": null,
   "metadata": {},
   "outputs": [],
   "source": [
    "# this gives the same result, but did wasted work\n",
    "people.groupby(\"FavColor\").mean()[\"Number\"]"
   ]
  },
  {
   "cell_type": "code",
   "execution_count": null,
   "metadata": {},
   "outputs": [],
   "source": []
  },
  {
   "cell_type": "markdown",
   "metadata": {
    "slideshow": {
     "slide_type": "slide"
    }
   },
   "source": [
    "## `groupby` methods\n",
    "\n",
    "- `.min()`, `.max()`, `.mean()`, etc.\n",
    "- What if what you want isn't provided by pandas?\n",
    "- What if you want to apply different methods to different columns?"
   ]
  },
  {
   "cell_type": "markdown",
   "metadata": {
    "slideshow": {
     "slide_type": "slide"
    }
   },
   "source": [
    "## `groupby` methods: `aggregate`\n",
    "* Aggregates using one or more operations over the specified axis.\n",
    "* Aggregation: reduce many values to one.\n",
    "* Takes in a dictionary of:\n",
    "    - keys: names of columns to a apply a function to,\n",
    "    - values: the function to apply.\n",
    "    - The function should accept a *DataFrame* and reduce it to a single row.\n",
    "    - Or, if using column selection, should accept a *Series* and reduce it to a scalar.\n",
    "* There are more [sophisticated ways](https://pandas.pydata.org/pandas-docs/stable/generated/pandas.DataFrame.aggregate.html#pandas.DataFrame.aggregate) to use it."
   ]
  },
  {
   "cell_type": "markdown",
   "metadata": {},
   "source": [
    "### Example\n",
    "\n",
    "Get the proportion of `is_male` (mean) and the median number within each group of favorite colors."
   ]
  },
  {
   "cell_type": "code",
   "execution_count": null,
   "metadata": {},
   "outputs": [],
   "source": [
    "people"
   ]
  },
  {
   "cell_type": "code",
   "execution_count": null,
   "metadata": {},
   "outputs": [],
   "source": [
    "people.groupby('FavColor').aggregate({'Number': np.median, 'is_male': np.mean})"
   ]
  },
  {
   "cell_type": "markdown",
   "metadata": {
    "slideshow": {
     "slide_type": "slide"
    }
   },
   "source": [
    "### Example\n",
    "\n",
    "Get the average name length within each group."
   ]
  },
  {
   "cell_type": "code",
   "execution_count": null,
   "metadata": {},
   "outputs": [],
   "source": [
    "def avg_str_len(col):\n",
    "    return col.str.len().mean()  # purpose?"
   ]
  },
  {
   "cell_type": "code",
   "execution_count": null,
   "metadata": {},
   "outputs": [],
   "source": [
    "people.groupby('FavColor')['Name'].aggregate(avg_str_len)"
   ]
  },
  {
   "cell_type": "code",
   "execution_count": null,
   "metadata": {},
   "outputs": [],
   "source": [
    "people"
   ]
  },
  {
   "cell_type": "code",
   "execution_count": null,
   "metadata": {},
   "outputs": [],
   "source": [
    "# aggregate with list\n",
    "people.groupby('FavColor').aggregate([np.min, np.max])"
   ]
  },
  {
   "cell_type": "code",
   "execution_count": null,
   "metadata": {},
   "outputs": [],
   "source": [
    "grps.aggregate?"
   ]
  },
  {
   "cell_type": "markdown",
   "metadata": {
    "slideshow": {
     "slide_type": "slide"
    }
   },
   "source": [
    "## `groupby` methods: `transform`\n",
    "\n",
    "- Let's say we want to subtract the mean within each group.\n",
    "- This is not an aggregation, it is a *transformation*.\n",
    "- Transformation: return a dataframe or series of the same size."
   ]
  },
  {
   "cell_type": "code",
   "execution_count": null,
   "metadata": {},
   "outputs": [],
   "source": [
    "people"
   ]
  },
  {
   "cell_type": "code",
   "execution_count": null,
   "metadata": {},
   "outputs": [],
   "source": [
    "people.groupby('FavColor')['Number'].transform(lambda ser: ser - ser.mean())"
   ]
  },
  {
   "cell_type": "markdown",
   "metadata": {
    "slideshow": {
     "slide_type": "slide"
    }
   },
   "source": [
    "## `groupby` methods: `apply`\n",
    "\n",
    "- Everything else.\n",
    "- Takes a function that accepts a group as a dataframe/series, and can return a dataframe, series, or scalar.\n",
    "- Is more general that `.aggregate` and `.transform`. Rarely needed.\n",
    "- Prefer aggregation methods (`.mean()`, `.max()`, etc), `.aggregate`, and `.transform` in that order."
   ]
  },
  {
   "cell_type": "markdown",
   "metadata": {
    "slideshow": {
     "slide_type": "slide"
    }
   },
   "source": [
    "## Grouping over multiple columns"
   ]
  },
  {
   "cell_type": "code",
   "execution_count": null,
   "metadata": {},
   "outputs": [],
   "source": [
    "# can you predict the output of the groupby?\n",
    "\n",
    "two_fields = people.groupby([\"FavColor\", \"Gender\"])\n"
   ]
  },
  {
   "cell_type": "code",
   "execution_count": null,
   "metadata": {},
   "outputs": [],
   "source": [
    "# To view the content:\n",
    "for key, item in two_fields:\n",
    "    print(key)\n",
    "    print('=' * len(key))\n",
    "    print(two_fields.get_group(key))\n",
    "    print()\n",
    "    print()"
   ]
  },
  {
   "cell_type": "code",
   "execution_count": null,
   "metadata": {},
   "outputs": [],
   "source": [
    "res = people.groupby([\"FavColor\", \"Gender\"])[['Name','Number']].max()\n",
    "res"
   ]
  },
  {
   "cell_type": "code",
   "execution_count": null,
   "metadata": {},
   "outputs": [],
   "source": [
    "# ^^ multi-Index"
   ]
  },
  {
   "cell_type": "code",
   "execution_count": null,
   "metadata": {},
   "outputs": [],
   "source": [
    "res.loc[('blue', 'F')]"
   ]
  },
  {
   "cell_type": "markdown",
   "metadata": {
    "slideshow": {
     "slide_type": "slide"
    }
   },
   "source": [
    "## Grouping and Indexes\n",
    "\n",
    "* the `groupby` operation creates an index based on the grouping columns. \n",
    "* If a grouping was one multiple columns, it results in a `MultiIndex`.\n",
    "    - Advice: given a `MultiIndex`? Use `.reset_index`!"
   ]
  },
  {
   "cell_type": "code",
   "execution_count": null,
   "metadata": {},
   "outputs": [],
   "source": [
    "# reminder\n",
    "\n",
    "import numpy as np\n",
    "\n",
    "def avg_str_len(series):\n",
    "    return series.str.len().mean()  # purpose?\n",
    "\n",
    "res = (\n",
    "    people\n",
    "        .groupby([\"FavColor\", \"Gender\"])\n",
    "        .aggregate({\"Name\": avg_str_len, \"Number\": np.mean})\n",
    ")\n",
    "\n",
    "res"
   ]
  },
  {
   "cell_type": "code",
   "execution_count": null,
   "metadata": {},
   "outputs": [],
   "source": [
    "# In some cases we might want to leave the grouping fields as columns:\n",
    "\n",
    "(\n",
    "    people\n",
    "        .groupby([\"FavColor\", \"Gender\"], as_index=False)\n",
    "        .aggregate({\"Name\": \"first\", \"Number\": np.mean})\n",
    ")"
   ]
  },
  {
   "cell_type": "code",
   "execution_count": null,
   "metadata": {},
   "outputs": [],
   "source": [
    "# Or using .reset_index instead\n",
    "\n",
    "(\n",
    "    people\n",
    "        .groupby([\"FavColor\", \"Gender\"])\n",
    "        .aggregate({\"Name\": \"first\", \"Number\": np.mean})\n",
    "        .reset_index()\n",
    ")"
   ]
  },
  {
   "cell_type": "code",
   "execution_count": null,
   "metadata": {},
   "outputs": [],
   "source": []
  },
  {
   "cell_type": "code",
   "execution_count": null,
   "metadata": {},
   "outputs": [],
   "source": []
  },
  {
   "cell_type": "markdown",
   "metadata": {
    "slideshow": {
     "slide_type": "slide"
    }
   },
   "source": [
    "### Part 3\n",
    "\n",
    "# Pivot Tables"
   ]
  },
  {
   "cell_type": "markdown",
   "metadata": {
    "slideshow": {
     "slide_type": "slide"
    }
   },
   "source": [
    "## Pivot Tables\n",
    "\n",
    "- A pivot table is a \"cross-section\" of two columns.\n",
    "- Example: turn a list of flights into a \"cross-section\" of number of flights for each (airline, day of week) pair."
   ]
  },
  {
   "cell_type": "code",
   "execution_count": null,
   "metadata": {},
   "outputs": [],
   "source": [
    "flights = pd.DataFrame({\n",
    "    'airline': ['AA', 'SW', 'AA', 'UA', 'SW', 'SW', 'AA'],\n",
    "    'day_of_week': ['M', 'T', 'M', 'M', 'T', 'W', 'M'],\n",
    "    'time': ['early', 'late', 'late', 'midday', 'early', 'late', 'early']\n",
    "})\n",
    "flights"
   ]
  },
  {
   "cell_type": "code",
   "execution_count": null,
   "metadata": {},
   "outputs": [],
   "source": [
    "flights.pivot_table(index='airline', columns='day_of_week', values='time', aggfunc='count').fillna(0)"
   ]
  },
  {
   "attachments": {
    "image.png": {
     "image/png": "[encoded data removed]"
    }
   },
   "cell_type": "markdown",
   "metadata": {
    "slideshow": {
     "slide_type": "slide"
    }
   },
   "source": [
    "![image.png](attachment:image.png)"
   ]
  },
  {
   "cell_type": "code",
   "execution_count": null,
   "metadata": {
    "slideshow": {
     "slide_type": "slide"
    }
   },
   "outputs": [],
   "source": [
    "moves = pd.DataFrame([\n",
    "    [1, 1, 'X'],\n",
    "    [1, 2, 'O'],\n",
    "    [0, 1, 'X'],\n",
    "    [2, 1, 'O'],\n",
    "    [2, 0, 'X'],\n",
    "    [0, 2, 'O']\n",
    "], columns=['i', 'j', 'move'])\n",
    "moves"
   ]
  },
  {
   "cell_type": "code",
   "execution_count": null,
   "metadata": {},
   "outputs": [],
   "source": [
    "moves.pivot(index='i', columns='j', values='move')"
   ]
  },
  {
   "cell_type": "markdown",
   "metadata": {
    "slideshow": {
     "slide_type": "slide"
    }
   },
   "source": [
    "### `pivot`/ `pivot_table` methods reshape dataframes from 'long' to 'wide'\n",
    "* `.pivot`/`.pivot_table` transforms:\n",
    "    - a long table of rows 'indexed' by two characteristics,\n",
    "    - into a wide table with one characteristic per axis.\n",
    "\n",
    "* `.pivot` is a reshape that often follows a `groupby`."
   ]
  },
  {
   "cell_type": "code",
   "execution_count": null,
   "metadata": {},
   "outputs": [],
   "source": [
    "# Counts of Color/Gender\n",
    "counts = people.groupby([\"FavColor\", \"Gender\"], as_index=False)['Number'].count()\n",
    "counts"
   ]
  },
  {
   "cell_type": "code",
   "execution_count": null,
   "metadata": {},
   "outputs": [],
   "source": [
    "# pivot method merely reshapes the data\n",
    "counts.pivot(index='FavColor', columns='Gender', values='Number')"
   ]
  },
  {
   "cell_type": "markdown",
   "metadata": {
    "slideshow": {
     "slide_type": "slide"
    }
   },
   "source": [
    "### The `pivot_table` method can combine `groupby` and `pivot`\n",
    "\n",
    "* Doing a pivot after a groupby is so common, `pivot_table` can do it!\n",
    "* `aggfunc='count'` specifies to aggregate by count before pivoting.\n",
    "* The equivalent of:\n",
    "```\n",
    "people.groupby([\"FavColor\", \"Sex\"], as_index=False)['Number'].count().pivot('FavColor', 'Sex', 'Number')\n",
    "```"
   ]
  },
  {
   "cell_type": "code",
   "execution_count": null,
   "metadata": {},
   "outputs": [],
   "source": [
    "people"
   ]
  },
  {
   "cell_type": "code",
   "execution_count": null,
   "metadata": {},
   "outputs": [],
   "source": [
    "people.pivot_table(\n",
    "    values  = \"Number\", # the entry to aggregate over\n",
    "    index   = \"FavColor\",  # the row grouping attributes\n",
    "    columns = \"Gender\",    # the column grouping attributes\n",
    "    aggfunc = \"count\"   # the aggregation function\n",
    ")"
   ]
  },
  {
   "cell_type": "code",
   "execution_count": null,
   "metadata": {},
   "outputs": [],
   "source": []
  },
  {
   "cell_type": "code",
   "execution_count": null,
   "metadata": {},
   "outputs": [],
   "source": []
  },
  {
   "cell_type": "markdown",
   "metadata": {
    "slideshow": {
     "slide_type": "slide"
    }
   },
   "source": [
    "### `pivot_table` observations\n",
    "\n",
    "1. The second \"grouping\" column (`Gender`) has been **\"pivoted\" from the rows to column location**. \n",
    "2. There is a missing value for `pink` and `F` since none of the women chose `pink` as their favorite color.\n",
    "    - specify how missing values are filled in with `fill_value` keyword argument, or use `.fillna()`"
   ]
  },
  {
   "cell_type": "code",
   "execution_count": null,
   "metadata": {},
   "outputs": [],
   "source": [
    "people.pivot_table(\n",
    "    values  = \"Number\",\n",
    "    index   = \"FavColor\",\n",
    "    columns = \"Gender\",\n",
    "    aggfunc = \"count\",\n",
    "    fill_value = 0.0\n",
    ")"
   ]
  },
  {
   "cell_type": "markdown",
   "metadata": {
    "slideshow": {
     "slide_type": "slide"
    }
   },
   "source": [
    "### `pivot_table` observations\n",
    "\n",
    "* Rows/columns do *not* represent individuals/observations.\n",
    "* The statistical summaries are related to joint/conditional distributions:\n",
    "    - Joint: 'The distribution of (Color, Gender) pairs'\n",
    "        - That is, probability of seeing someone with that favorite color and gender.\n",
    "    - Conditional: 'The distribution of Colors, given Gender=...'\n",
    "        - That is, probability of seeing that favorite color given gender."
   ]
  },
  {
   "cell_type": "code",
   "execution_count": null,
   "metadata": {},
   "outputs": [],
   "source": [
    "counts = people.pivot_table(\n",
    "    values  = \"Number\",\n",
    "    index   = \"FavColor\",\n",
    "    columns = \"Gender\",\n",
    "    aggfunc = \"count\",\n",
    "    fill_value = 0.0\n",
    ")\n",
    "\n",
    "counts"
   ]
  },
  {
   "cell_type": "code",
   "execution_count": null,
   "metadata": {},
   "outputs": [],
   "source": [
    "joint = counts / counts.sum().sum()\n",
    "joint"
   ]
  },
  {
   "cell_type": "code",
   "execution_count": null,
   "metadata": {},
   "outputs": [],
   "source": [
    "# marginal probabilities\n",
    "joint.sum(axis=1)"
   ]
  },
  {
   "cell_type": "code",
   "execution_count": null,
   "metadata": {},
   "outputs": [],
   "source": [
    "# marginal probabilities\n",
    "joint.sum(axis=0)"
   ]
  },
  {
   "cell_type": "code",
   "execution_count": null,
   "metadata": {},
   "outputs": [],
   "source": [
    "# conditional distributions of color given Gender \n",
    "# (each column sums to 1)\n",
    "counts / counts.sum(axis=0)"
   ]
  },
  {
   "cell_type": "code",
   "execution_count": null,
   "metadata": {},
   "outputs": [],
   "source": [
    "# conditional distributions of Gender given Color\n",
    "# (each column sums to 1)\n",
    "counts.T / counts.sum(axis=1)"
   ]
  },
  {
   "cell_type": "markdown",
   "metadata": {
    "slideshow": {
     "slide_type": "slide"
    }
   },
   "source": [
    "### `Pivot` conclusion\n",
    "\n",
    "* Pivots reshape your data from long to wide.\n",
    "* Other reshaping dataframe methods:\n",
    "    - `melt`: un-pivots your data\n",
    "    - `stack`: pivoting multi-level columns to multi-indices\n",
    "    - `unstack`: pivoting multi-indices to columns"
   ]
  },
  {
   "cell_type": "markdown",
   "metadata": {
    "slideshow": {
     "slide_type": "slide"
    }
   },
   "source": [
    "### Part 4\n",
    "\n",
    "# Simpson's 'Paradox'\n",
    "* Datasets look different at different granularities\n",
    "\n",
    "<img src=\"imgs/image_2.png\">"
   ]
  },
  {
   "cell_type": "markdown",
   "metadata": {
    "slideshow": {
     "slide_type": "slide"
    }
   },
   "source": [
    "# Example 0.\n",
    "\n",
    "- Two new students, A and B, take different number of classes in Fa, Wi, Sp quarter\n",
    "- Within each quarter, student A has higher quarter GPA than B\n",
    "- But B has higher overall GPA at the end of the year\n",
    "- How is this possible?\n",
    "- An A- in a 3 credit course is worth 3.7 $\\times$ 3 = 11.1 \"Grade Points\""
   ]
  },
  {
   "cell_type": "code",
   "execution_count": null,
   "metadata": {},
   "outputs": [],
   "source": [
    "student_A = pd.DataFrame([\n",
    "        [20, 46],\n",
    "        [18, 54],\n",
    "        [5, 20]\n",
    "    ],\n",
    "    columns=['Credit Hours', 'Grade Points Earned'], \n",
    "    index=['Fa', 'Wi', 'Sp'])\n",
    "student_A"
   ]
  },
  {
   "cell_type": "code",
   "execution_count": null,
   "metadata": {},
   "outputs": [],
   "source": [
    "student_B = pd.DataFrame([\n",
    "        [5, 10],\n",
    "        [5, 13.5],\n",
    "        [22, 81.4]\n",
    "    ],\n",
    "    columns=['Credit Hours', 'Grade Points Earned'], \n",
    "    index=['Fa', 'Wi', 'Sp'])\n",
    "student_B"
   ]
  },
  {
   "cell_type": "code",
   "execution_count": null,
   "metadata": {},
   "outputs": [],
   "source": [
    "pd.DataFrame(\n",
    "    {\n",
    "        \"A's Quarter GPA\": student_A['Grade Points Earned'] / student_A['Credit Hours'],\n",
    "        \"B's Quarter GPA\": student_B['Grade Points Earned'] / student_B['Credit Hours']\n",
    "    }\n",
    ")\n"
   ]
  },
  {
   "cell_type": "code",
   "execution_count": null,
   "metadata": {},
   "outputs": [],
   "source": [
    "tot = student_A.sum()\n",
    "tot['Grade Points Earned'] / tot['Credit Hours']"
   ]
  },
  {
   "cell_type": "code",
   "execution_count": null,
   "metadata": {},
   "outputs": [],
   "source": [
    "tot = student_B.sum()\n",
    "tot['Grade Points Earned'] / tot['Credit Hours']"
   ]
  },
  {
   "cell_type": "markdown",
   "metadata": {
    "slideshow": {
     "slide_type": "slide"
    }
   },
   "source": [
    "### What happened?\n",
    "\n",
    "- When Student A and B performed well, A didn't take many credit hours, but B did.\n",
    "- When Student A and B performed poorly, A took a lot of credit hours, but B did not."
   ]
  },
  {
   "cell_type": "markdown",
   "metadata": {
    "slideshow": {
     "slide_type": "slide"
    }
   },
   "source": [
    "## Simpson's Paradox\n",
    "\n",
    "* When grouped data tells the opposite story of the ungrouped data. \n",
    "\n",
    "* This *often* happens because there is a hidden factor (*a confounder*) within the data that influences results.\n",
    "\n",
    "* What is the \"correct\" way to summarize your data? What if you had to act on these results?"
   ]
  },
  {
   "cell_type": "markdown",
   "metadata": {
    "slideshow": {
     "slide_type": "slide"
    }
   },
   "source": [
    "# Example 1. How Berkeley was sued for gender discrimination (1973)\n",
    "\n",
    "<img src=\"imgs/image_3.png\">\n",
    "**Do you agree?**"
   ]
  },
  {
   "cell_type": "markdown",
   "metadata": {
    "slideshow": {
     "slide_type": "slide"
    }
   },
   "source": [
    "## Researchers looked more closely within specific departments\n",
    "\n",
    "<img src=\"imgs/image_4.png\">\n",
    "\n",
    "**and what did they see?**\n",
    "\n",
    " - (from here: https://medium.com/@dexter.shawn/how-uc-berkeley-almost-got-sued-because-of-lying-data-aaa5d641f571)\n",
    " - https://en.wikipedia.org/wiki/Simpson%27s_paradox#UC_Berkeley_gender_bias"
   ]
  },
  {
   "cell_type": "markdown",
   "metadata": {
    "slideshow": {
     "slide_type": "slide"
    }
   },
   "source": [
    "### What happened with admission?\n",
    "\n",
    "\n",
    "<div class=\"image-txt-container\">\n",
    "    \n",
    "<img src=\"imgs/simpsons_berkeley.png\" width=\"50%\">\n",
    "\n",
    "\n",
    "* Most depts accepted women at a higher rate than men.\n",
    "* Dept A: few women applicants\n",
    "* Dept F: many women applicants\n",
    "* Women apply to harder depts.\n",
    "\n",
    "    \n",
    "</div>\n",
    "\n",
    "\n"
   ]
  },
  {
   "cell_type": "markdown",
   "metadata": {
    "slideshow": {
     "slide_type": "slide"
    }
   },
   "source": [
    "### What happened? (by the numbers)\n",
    "\n",
    "* Overall acceptance rate: 35% (women) to 44% (men).\n",
    "\n",
    "* Dept A has an acceptance rate 82% for women vs 62% for men! \n",
    "    - **2%** of all women applied to Dept A.\n",
    "    - **10%** of all men applied to Dept A.\n",
    "    \n",
    "* Dept F has an acceptance rate 6% for women vs 7% for men! \n",
    "    - **8%** of all women applied to Dept A.\n",
    "    - **4%** of all men applied to Dept A.\n",
    "\n",
    "**Conclusion:** Women tended to to apply to depts with a low-acceptance rate."
   ]
  },
  {
   "cell_type": "markdown",
   "metadata": {
    "slideshow": {
     "slide_type": "slide"
    }
   },
   "source": [
    "## Caution!\n",
    "\n",
    "- This doesn't mean that admissions are free from gender discrimination.\n",
    "- E.g., Moss-Racusin, et al, 2012, PNAS (cited 2600+ times):\n",
    "\n",
    "> In a randomized double-blind study (n = 127), **science faculty** from research-intensive universities **rated the application materials of a student—who was randomly assigned either a male or female** name—for a laboratory manager position. Faculty **participants rated the male applicant as significantly more competent and hireable than the (identical) female applicant**. These participants also selected a higher starting salary and offered more career mentoring to the male applicant. The gender of the faculty participants did not affect responses, such that female and male faculty were equally likely to exhibit bias against the female student."
   ]
  },
  {
   "cell_type": "markdown",
   "metadata": {
    "slideshow": {
     "slide_type": "slide"
    }
   },
   "source": [
    "## But then...\n",
    "\n",
    "- E.g., Williams and Ceci, 2015, PNAS:\n",
    "\n",
    "> Here we report five hiring experiments in which faculty evaluated hypothetical female and male applicants, using systematically varied profiles disguising identical scholarship, for assistant professorships in biology, engineering, economics, and psychology. Contrary to prevailing assumptions, **men and women faculty members from all four fields preferred female applicants 2:1 over identically qualified males** with matching lifestyles (single, married, divorced), with the exception of male economists, who showed no gender preference."
   ]
  },
  {
   "cell_type": "markdown",
   "metadata": {
    "slideshow": {
     "slide_type": "slide"
    }
   },
   "source": [
    "## Do these conflict?\n",
    "\n",
    "- Not necessarily. One explanation, from William and Ceci:\n",
    "\n",
    "> Instead, past studies have used ratings of students’ hirability for a range of posts that do not include tenure-track jobs, such as managing laboratories or performing math assignments for a company. However, hiring tenure-track faculty differs from hiring lower-level staff: it entails selecting among highly accomplished candidates, all of whom have completed Ph.D.s and amassed publications and strong letters of support. **Hiring bias may occur when applicants’ records are ambiguous, as was true in studies of hiring bias for lower-level staff posts, but such bias may not occur when records are clearly strong**, as is the case with tenure-track hiring."
   ]
  },
  {
   "cell_type": "markdown",
   "metadata": {
    "slideshow": {
     "slide_type": "slide"
    }
   },
   "source": [
    "## Do these conflict?\n",
    "\n",
    "- Witteman, et al, 2019, in *The Lancet*:\n",
    "\n",
    "> Thus, evidence of scientists favouring women comes exclusively from hypothetical scenarios, whereas evidence of scientists favouring men comes from hypothetical scenarios and real behaviour. This **might reflect academics' growing awareness of the social desirability of achieving gender balance, while real academic behaviour might not yet put such ideals into action**."
   ]
  },
  {
   "cell_type": "markdown",
   "metadata": {},
   "source": [
    "## Lessons\n",
    "\n",
    "- Be skeptical of aggregate statistics (Simpson's Paradox)\n",
    "- Be skeptical of people misusing statistics to prove that discrimination doesn't exist\n",
    "- Be skeptical of drawing conclusions from individual publications (p-hacking, publication bias, narrow focus)\n",
    "- Be skeptical of everything!"
   ]
  },
  {
   "cell_type": "markdown",
   "metadata": {
    "slideshow": {
     "slide_type": "skip"
    }
   },
   "source": [
    "# Example 2. Hospital Example\n",
    "\n",
    "* Should I send my elderly relative to Hospital A or B?\n",
    "\n",
    "<img src=\"imgs/hospitals.png\">\n",
    "    \n",
    "[[from here]](https://www.youtube.com/watch?v=sxYrzzy3cq8&feature=youtu.be) "
   ]
  },
  {
   "cell_type": "markdown",
   "metadata": {
    "slideshow": {
     "slide_type": "skip"
    }
   },
   "source": [
    "### Additional observation:\n",
    "\n",
    "Not all patients arrive with the same health:\n",
    "\n",
    "<br/>\n",
    "\n",
    "<div class=\"image-txt-container\">\n",
    "    \n",
    "    \n",
    "    \n",
    "<img src=\"imgs/A_poor.png\" width=\"42%\">\n",
    "\n",
    "\n",
    "<img src=\"imgs/B_poor.png\" width=\"45%\">\n",
    "\n",
    "    \n",
    "</div>\n",
    "\n",
    "\n",
    "Calculate the survival rate for those in poor health."
   ]
  },
  {
   "cell_type": "code",
   "execution_count": null,
   "metadata": {
    "slideshow": {
     "slide_type": "skip"
    }
   },
   "outputs": [],
   "source": [
    "# for A:\n",
    "print(30*100/100)\n",
    "# for B:\n",
    "print(210*100/400)"
   ]
  },
  {
   "cell_type": "markdown",
   "metadata": {
    "slideshow": {
     "slide_type": "skip"
    }
   },
   "source": [
    "### Question\n",
    "\n",
    "* What if your relative's health is good? \n",
    "* What hospital should you choose, A or B?\n",
    "\n",
    "Remember, that hospital \n",
    "* A had 900/1000 survivors (30/100 poor health), (870/900 good health) \n",
    "* B has 800/1000 survivors (210/400 poor health), (590/600 good health). \n",
    "\n",
    "Talk to each other and vote:\n",
    "\n",
    "|Option|Answer|\n",
    "|---|---|\n",
    "|A| Hospital A|\n",
    "|B| Hospital B|\n",
    "|C| Impossible to decide, not enough data|\n"
   ]
  },
  {
   "cell_type": "markdown",
   "metadata": {
    "slideshow": {
     "slide_type": "skip"
    }
   },
   "source": [
    "### Simpson's paradox explanation: hospital example\n",
    "\n",
    "* The data show opposite trends, depending on how it is grouped. \n",
    "* The hidden factor is the relative proportion of patients who arrived on good/poor health.\n",
    "* *In this case*, how you act depends on which group you are in."
   ]
  },
  {
   "cell_type": "markdown",
   "metadata": {
    "slideshow": {
     "slide_type": "slide"
    }
   },
   "source": [
    "## Caution: Simpson's paradox is merely arithmetic\n",
    "\n",
    "* Sometimes there are no *revelant* confounders.\n",
    "* Simpson's paradox is present in ~2% of randomly chosen \"grouping distributions\".\n",
    "* The best way to interpret the data depends on what you want from it!\n"
   ]
  },
  {
   "cell_type": "markdown",
   "metadata": {
    "slideshow": {
     "slide_type": "slide"
    }
   },
   "source": [
    "### Restaurant reviews and phone types\n",
    "\n",
    "* You are deciding between two restaurants with a friend.\n",
    "* In a new feature, yelp aggregates attributes of reviewers for their reviews.\n",
    "* Should you choose restaurant A or B? \n",
    "\n",
    "|Phone Type|Stars for A|Stars for B|\n",
    "|---|---|---|\n",
    "|Android|4.24|4.0|\n",
    "|iPhone|2.99|2.79|\n",
    "|___|___|___|\n",
    "|All|3.32|3.37|\n",
    "\n"
   ]
  },
  {
   "cell_type": "markdown",
   "metadata": {
    "slideshow": {
     "slide_type": "slide"
    }
   },
   "source": [
    "### Restaurant reviews and phone types\n",
    "* It's doubtful that your phone-type will *cause* you to prefer one restaurant over another (?)\n",
    "* If you aggregate again, the inequalities may flip *again* (e.g. phone-type ownership by zip-code)\n",
    "* Simpson's paradox is merely a property of weighted averages!"
   ]
  },
  {
   "cell_type": "markdown",
   "metadata": {
    "slideshow": {
     "slide_type": "notes"
    }
   },
   "source": [
    "* Maybe Android users give better reviews? But you care about relative rank!"
   ]
  },
  {
   "cell_type": "markdown",
   "metadata": {
    "slideshow": {
     "slide_type": "skip"
    }
   },
   "source": [
    "### Verifying simpson's paradox\n",
    "* Suppose we have a dataset of individual ratings\n",
    "* Can you verify simpson's paradox?"
   ]
  },
  {
   "cell_type": "code",
   "execution_count": null,
   "metadata": {
    "slideshow": {
     "slide_type": "skip"
    }
   },
   "outputs": [],
   "source": [
    "ratings = pd.read_csv('data/ratings.csv')\n",
    "ratings.head()"
   ]
  }
 ],
 "metadata": {
  "celltoolbar": "Slideshow",
  "kernelspec": {
   "display_name": "Python 3",
   "language": "python",
   "name": "python3"
  },
  "language_info": {
   "codemirror_mode": {
    "name": "ipython",
    "version": 3
   },
   "file_extension": ".py",
   "mimetype": "text/x-python",
   "name": "python",
   "nbconvert_exporter": "python",
   "pygments_lexer": "ipython3",
   "version": "3.8.9"
  },
  "livereveal": {
   "scroll": true,
   "transition": "none"
  }
 },
 "nbformat": 4,
 "nbformat_minor": 2
}
