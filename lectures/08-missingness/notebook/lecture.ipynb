{
 "cells": [
  {
   "cell_type": "code",
   "execution_count": null,
   "metadata": {},
   "outputs": [],
   "source": [
    "%matplotlib inline\n",
    "\n",
    "import numpy as np\n",
    "import pandas as pd\n",
    "import matplotlib.pyplot as plt\n",
    "import seaborn as sns\n",
    "\n",
    "import warnings\n",
    "warnings.filterwarnings(\"ignore\")\n",
    "\n",
    "# set defaults\n",
    "plt.style.use('seaborn-white')   # seaborn custom plot style\n",
    "plt.rc('figure', dpi=100, figsize=(7, 5))   # set default size/resolution\n",
    "plt.rc('font', size=12)   # font size"
   ]
  },
  {
   "cell_type": "markdown",
   "metadata": {
    "slideshow": {
     "slide_type": "slide"
    }
   },
   "source": [
    "### Lecture 8 - Part 1\n",
    "\n",
    "# Missingness Mechanisms"
   ]
  },
  {
   "cell_type": "markdown",
   "metadata": {
    "slideshow": {
     "slide_type": "slide"
    }
   },
   "source": [
    "## Imperfect Data\n",
    "\n",
    "<img src=\"imgs/image_0.png\">\n",
    "\n",
    "* The \"true\" (probability) model is an idealized approximation of the Data Generating Process.\n",
    "* The data generating process is the phenomenon we want to understand.\n",
    "* The recorded data is *supposed* to \"well represent\" the data generating process."
   ]
  },
  {
   "cell_type": "markdown",
   "metadata": {
    "slideshow": {
     "slide_type": "slide"
    }
   },
   "source": [
    "## Imperfect Data\n",
    "\n",
    "<img src=\"imgs/image_1.png\">\n",
    "\n",
    "* Problem 1: your data is not representative? (poor sample of events).\n",
    "* Problem 2: some of the entries are missing (incomplete measurements)\n",
    "\n",
    "These are only problems when there is *systematic bias* in the result!"
   ]
  },
  {
   "cell_type": "markdown",
   "metadata": {
    "slideshow": {
     "slide_type": "slide"
    }
   },
   "source": [
    "## Imperfect Data\n",
    "\n",
    "* Non-representative samples are identified with domain research!\n",
    "    - Does the description of the data look like your understanding of the data generating process? (Salaries are only for tech people)\n",
    "* Incomplete measurements are missing data!\n",
    "    - Understanding how *portions* of your data are missing affects the quality of your sample.\n",
    "    - There are techniques to understand when missing measurements are representative of the rest of the sample."
   ]
  },
  {
   "cell_type": "markdown",
   "metadata": {
    "slideshow": {
     "slide_type": "slide"
    }
   },
   "source": [
    "# Types of Missingness\n",
    "\n",
    "* Missing by Design (MD)\n",
    "    \n",
    "* Ignorable Missing Data:\n",
    "    - Unconditionally ignorable (Missing Completely at Random: MCAR)\n",
    "    - Conditionally ignorable (Missing at Random: MAR)\n",
    "    \n",
    "* Non-Ignorable Missing Data (Not Missing at Random: NMAR)\n",
    "\n",
    "Important for determining how to *handle* missing data (next lecture).\n",
    "\n",
    "[(see wikipedia synopsis)](https://en.wikipedia.org/wiki/Missing_data)"
   ]
  },
  {
   "cell_type": "markdown",
   "metadata": {
    "slideshow": {
     "slide_type": "slide"
    }
   },
   "source": [
    "## Missing by Design (MD)\n",
    "\n",
    "<div class=\"image-txt-container\">\n",
    "    \n",
    "* Missingness was an intentional choice by designers of the data collection process.\n",
    "* We can predict when/why a value is missing from only the other columns.\n",
    "    - e.g., Column X is missing if any only if Column A, B, C are ...\n",
    "\n",
    "\n",
    "<img src=./imgs/households.png width=50%>\n",
    "\n",
    "    \n",
    "[(reference)](https://stats.stackexchange.com/questions/201782/meaning-of-missing-by-design-in-longitudinal-studies)"
   ]
  },
  {
   "cell_type": "markdown",
   "metadata": {
    "slideshow": {
     "slide_type": "slide"
    }
   },
   "source": [
    "## Missing by Design\n",
    "\n",
    "\n",
    "<img src=\"./imgs/Skiplogic.png\"/>\n",
    "\n",
    "</div>\n"
   ]
  },
  {
   "cell_type": "markdown",
   "metadata": {
    "slideshow": {
     "slide_type": "slide"
    }
   },
   "source": [
    "## Other types of missingness\n",
    "\n",
    "- Missing Completely at Random\n",
    "    - Chance of missingness is totally independent of other columns and the actual missing value\n",
    "- Missing at Random\n",
    "    - Chance of missingness depends on other columns, but **not** the actual, missing value\n",
    "- Not Missing at Random\n",
    "    - Chance of missingness depends on the actual, missing value\n",
    "    - Weird name, because it's still random"
   ]
  },
  {
   "cell_type": "markdown",
   "metadata": {
    "slideshow": {
     "slide_type": "slide"
    }
   },
   "source": [
    "## The dog ate my data\n",
    "\n",
    "- Surveyed people and asked for \"favorite color\" and \"birthday month\"\n",
    "- Wrote answers on index card:\n",
    "    - left size: color, right side: birthday month\n",
    "- Dog grabs 10 cards off the top of the stack, chews off right side (birthday month)\n",
    "- Now ten people are missing birthday month"
   ]
  },
  {
   "cell_type": "markdown",
   "metadata": {
    "slideshow": {
     "slide_type": "slide"
    }
   },
   "source": [
    "<img width=50% src=\"imgs/doggo.jpg\">"
   ]
  },
  {
   "cell_type": "markdown",
   "metadata": {
    "slideshow": {
     "slide_type": "slide"
    }
   },
   "source": [
    "## Discussion question\n",
    "\n",
    "Birthday month is now missing. What is the type of missingness if:\n",
    "\n",
    "1. cards were sorted by favorite color?\n",
    "2. cards were sorted by birthday month?\n",
    "3. cards were shuffled?\n",
    "\n",
    "Remember:\n",
    "\n",
    "- Missing Completely at Random\n",
    "    - Chance of missingness is totally independent of other columns and the actual missing value\n",
    "- Missing at Random\n",
    "    - Chance of missingness depends on other columns, but **not** the actual, missing value\n",
    "- Not Missing at Random\n",
    "    - Chance of missingness depends on the actual, missing value"
   ]
  },
  {
   "cell_type": "markdown",
   "metadata": {
    "slideshow": {
     "slide_type": "slide"
    }
   },
   "source": [
    "## Examples\n",
    "\n",
    "- Cards were sorted by favorite color\n",
    "    - The fact that a card is missing a month is related to the favorite color.\n",
    "    - Missing at Random\n",
    "- Cards were sorted by birthday month\n",
    "    - The fact that a card is missing a month is related to the missing month.\n",
    "    - Missing Not at Random\n",
    "- Cards were shuffled.\n",
    "    - The fact that a card is missing a month is related to nothing.\n",
    "    - Missing Completely at Random"
   ]
  },
  {
   "cell_type": "markdown",
   "metadata": {
    "slideshow": {
     "slide_type": "slide"
    }
   },
   "source": [
    "## The Real World...\n",
    "\n",
    "- ...is messy.\n",
    "- Sometimes requires domain knowledge to understand what might influence missingness.\n",
    "- Sometimes can be borderline (\"weakly\" NMAR)."
   ]
  },
  {
   "cell_type": "markdown",
   "metadata": {
    "slideshow": {
     "slide_type": "slide"
    }
   },
   "source": [
    "# Unconditionally ignorable (MCAR: missing completely at random)\n",
    "\n",
    "<div class=\"image-txt-container\">\n",
    "\n",
    "* Chance of missingness is totally independent of other columns and the actual missing value\n",
    "* Example 1: randomly-chosen subset of survey questions\n",
    "* Example 2: Water damage to paper forms prior to entry (assuming shuffled forms).\n",
    "* **Non**-example: optional question, \"how often do you donate to charity?\"\n",
    "    - people who don't donate are likely to leave blank (NMAR)\n",
    "<img src=\"imgs/water.jpg\" width=\"50%\"/>\n",
    "\n",
    "</div>"
   ]
  },
  {
   "cell_type": "markdown",
   "metadata": {
    "slideshow": {
     "slide_type": "slide"
    }
   },
   "source": [
    "# Non-Ignorable (NMAR: Not missing at Random), can't model from the data\n",
    "\n",
    "* A missing value depends on the value of the (actual, unreported) variable that's missing.\n",
    "* Example 1: people with high income are less likely to report income.\n",
    "* Example 2: a person doesn't take a drug test because they took drugs the day before.\n",
    "* This phenomenon cannot be determined from the observed data; it must be reasoned from domain expertise on the data-generating process.\n"
   ]
  },
  {
   "cell_type": "markdown",
   "metadata": {
    "slideshow": {
     "slide_type": "slide"
    }
   },
   "source": [
    "# Conditionally Ignorable (MAR: Missing at Random)\n",
    "\n",
    "<div class=\"image-txt-container\">\n",
    "\n",
    "* Chance of missingness depends on other columns, but *not* the actual, missing value\n",
    "* Example 1: Missing blood test result. For really sick patients, clinicians may not draw blood for routine labs.\n",
    "* Example 2: Missing income. People working in a Service Industry are less likely to report.\n",
    "\n",
    "<img src=\"imgs/tip.jpg\" width=\"50%\"/>\n",
    "\n",
    "</div>"
   ]
  },
  {
   "cell_type": "markdown",
   "metadata": {
    "slideshow": {
     "slide_type": "slide"
    }
   },
   "source": [
    "# But wait...\n",
    "\n",
    "* Can't I argue that these are NMAR (the missingess depends on value of missing data?)\n",
    "- Example:\n",
    "    - Missing blood test result. Sick patients will have lower blood oxygen level, for instance.\n",
    "    - So missingness *does* depend on actual, missing value.\n",
    "- Yes. But then almost everything is NMAR.\n",
    "- What is the *main effect*?\n",
    "- If the other columns *mostly* explain the missing value and missingness, treat it as MAR."
   ]
  },
  {
   "cell_type": "markdown",
   "metadata": {
    "slideshow": {
     "slide_type": "slide"
    }
   },
   "source": [
    "### Discussion Questions\n",
    "\n",
    "For each of the following datasets, decide whether they are MD, MCAR, MAR, NMAR:\n",
    "\n",
    "* A table (for a medical study) with column `gender` and column `age`. Age has missing values.\n",
    "* Measurements from the Hubble Space Telescope (dropped data during transmission).\n",
    "* SAT scores reported by an institution for College Ranking scores.\n",
    "* A table with a single column: self-reported education (with missing values).\n",
    "* Midterm report with three columns (`ver.1`, `ver.2`, `ver.3`). ⅔ of the entries in the report are `NaN`.\n",
    "\n"
   ]
  },
  {
   "cell_type": "markdown",
   "metadata": {
    "slideshow": {
     "slide_type": "slide"
    }
   },
   "source": [
    "### Diagnosis of missingness:\n",
    "\n",
    "* Depends on the dataset and its attributes.\n",
    "* Depends on the population / data generating processing under consideration.\n",
    "* Requires understanding the severity and effect of each possible type of missingness.\n",
    "\n",
    "Data with missing data is likely not a representative sample of the true population! "
   ]
  },
  {
   "cell_type": "markdown",
   "metadata": {
    "slideshow": {
     "slide_type": "slide"
    }
   },
   "source": [
    "##  Missing Summary\n",
    "\n",
    "* **MCAR**: Data is *Unconditionally Ignorable* or *Missing Completely at Random* if there is no relationship between the missingness of the data and any values, observed or missing.\n",
    "    - MCAR doesn't bias the observed data.\n",
    "\n",
    "* **MAR**:  Data is *conditionally ignorable* or *Missing at Random* if there is a systematic relationship between the propensity of missing values and the observed data, but not the missing data. \n",
    "    - MAR biases the observed data, but is fixable.\n",
    "\n",
    "* **NMAR**: Data is *non-ignorable* or *\"Not Missing at Random\"* if there is a relationship between the propensity of a value to be missing and its values.\n",
    "    - non-ignorable missing data biases the observed data in unobservable ways."
   ]
  },
  {
   "cell_type": "markdown",
   "metadata": {
    "slideshow": {
     "slide_type": "slide"
    }
   },
   "source": [
    "## Unconditionally Ignorable (MCAR) formal definition:\n",
    "\n",
    "Suppose we have:\n",
    "- a dataset $Y$ with observed values $Y_{obs}$ and missing values $Y_{mis}$.\n",
    "- a parameter $\\psi$ independent of the dataset.\n",
    "\n",
    "**MCAR**: Data is *Unconditionally ignorable* if \n",
    "\n",
    "$$Pr({\\rm data\\ is\\ present\\ } | Y_{obs}, Y_{mis}, \\psi) = Pr({\\rm data\\ is\\ present\\ } |\\ \\psi)$$\n",
    "\n",
    "That is, adding information on the dataset doesn't change likelihood data is missing!"
   ]
  },
  {
   "cell_type": "markdown",
   "metadata": {
    "slideshow": {
     "slide_type": "slide"
    }
   },
   "source": [
    "## Conditionally ignorable (MAR) formal definition\n",
    "\n",
    "Suppose we have:\n",
    "- a dataset $Y$ with observed values $Y_{obs}$ and missing values $Y_{mis}$.\n",
    "- a parameter $\\psi$ independent of the dataset.\n",
    "\n",
    "\n",
    "**MAR**: Data is *Conditionally ignorable* if \n",
    "\n",
    "$$Pr({\\rm data\\ is\\ present\\ } | Y_{obs}, Y_{mis}, \\psi) = Pr({\\rm data\\ is\\ present\\ } |\\ Y_{obs}, \\psi)$$\n",
    "\n",
    "That is, *MAR data is actually MCAR, conditional on $Y_{obs}$*"
   ]
  },
  {
   "cell_type": "markdown",
   "metadata": {
    "slideshow": {
     "slide_type": "slide"
    }
   },
   "source": [
    "## Non-ignorable missing data (NMAR) formal definition\n",
    "\n",
    "Suppose we have:\n",
    "- a dataset $Y$ with observed values $Y_{obs}$ and missing values $Y_{mis}$.\n",
    "- a parameter $\\psi$ independent of the dataset.\n",
    "\n",
    "\n",
    "**NMAR**: Data is *non-ignorably missing* if \n",
    "\n",
    "$$Pr({\\rm data\\ is\\ present\\ }| Y_{obs}, Y_{mis}, \\psi)$$\n",
    "\n",
    "does not simplify. That is, in *NMAR* data, missingness is dependent on the missing value itself."
   ]
  },
  {
   "cell_type": "markdown",
   "metadata": {
    "slideshow": {
     "slide_type": "slide"
    }
   },
   "source": [
    "### Part 2\n",
    "\n",
    "# Assessing Missingness"
   ]
  },
  {
   "cell_type": "markdown",
   "metadata": {
    "slideshow": {
     "slide_type": "slide"
    }
   },
   "source": [
    "## Assessing Missingness\n",
    "\n",
    "- Suppose I believe that missingness is (MCAR, NMAR, MAR).\n",
    "- Can I check whether this is true?"
   ]
  },
  {
   "cell_type": "markdown",
   "metadata": {
    "slideshow": {
     "slide_type": "slide"
    }
   },
   "source": [
    "## How to assess the mechanism of missingness: NMAR\n",
    "* Cannot determine NMAR from the data alone; it depends on the unobserved.\n",
    "* Must be reasoned by the data generating process, or more data should be collected.\n",
    "* How strong the dependence on $Y_{mis}$ influences the strength of NMAR\n",
    "    - If the dependence on the missing values is weak, then *most* the missingness is explainable by observed values!"
   ]
  },
  {
   "cell_type": "markdown",
   "metadata": {
    "slideshow": {
     "slide_type": "slide"
    }
   },
   "source": [
    "### Discussion Question\n",
    "\n",
    "* Consider a dataset of survey data of people's self-reported happiness.\n",
    "    - The data contain an identifier and happiness score; nothing else.\n",
    "* Is the data likely NMAR?"
   ]
  },
  {
   "cell_type": "markdown",
   "metadata": {
    "slideshow": {
     "slide_type": "slide"
    }
   },
   "source": [
    "## How to assess the mechanism of missingness: MAR\n",
    "\n",
    "* Data are MAR if missingness only depends on *obsvered* data.\n",
    "* Data is MAR if it's determined to not be NMAR (assumption on data generating process).\n",
    "* Adding further measurements may reduce the effect of NMAR.\n",
    "    - income in census is NMAR; less so when adding geography, education, race..."
   ]
  },
  {
   "cell_type": "markdown",
   "metadata": {
    "slideshow": {
     "slide_type": "slide"
    }
   },
   "source": [
    "## How to assess the mechanism of missingness: MCAR\n",
    "\n",
    "- Say we have two variables: screen size and weight.\n",
    "- Some sizes are missing.\n",
    "- They are MCAR iff the weight when size is missing has same distribution as when heights not missing.\n",
    "- A/B test!\n",
    "    - Do the two distributions come from the same underlying distribution?"
   ]
  },
  {
   "cell_type": "markdown",
   "metadata": {
    "slideshow": {
     "slide_type": "slide"
    }
   },
   "source": [
    "## How to assess the mechanism of missingness: MCAR\n",
    "\n",
    "Assuming that the data is NMAR, you can test if data are MCAR.\n",
    "\n",
    "A column `c_test` is MCAR if its missingness $R$ is independent of the data.\n",
    "* For each column `c`, check that the missingness rates of `c_test` are the same across values of `c`.\n",
    "* That is, the distribution of `c` when `c_test.isnull()` is 'the same' as the distribution of `c` when `c_test.notnull()`.\n",
    "* The phrase 'the same' needs to be made statistically precise!"
   ]
  },
  {
   "cell_type": "markdown",
   "metadata": {
    "slideshow": {
     "slide_type": "slide"
    }
   },
   "source": [
    "### Checking data are MCAR: heights data\n",
    "* Start with complete dataset of child heights, gender of the child, and parent heights.\n",
    "* Blank out rows to create MCAR data."
   ]
  },
  {
   "cell_type": "code",
   "execution_count": null,
   "metadata": {},
   "outputs": [],
   "source": [
    "heights = pd.read_csv('data/midparent.csv')\n",
    "\n",
    "heights['child'] = heights.childHeight\n",
    "heights = heights.drop(['family', 'midparentHeight', 'children', 'childNum', 'childHeight'], axis=1)\n",
    "heights.head()"
   ]
  },
  {
   "cell_type": "code",
   "execution_count": null,
   "metadata": {},
   "outputs": [],
   "source": [
    "heights.isnull().mean()"
   ]
  },
  {
   "cell_type": "code",
   "execution_count": null,
   "metadata": {},
   "outputs": [],
   "source": [
    "# What are the data types?\n",
    "# Gender: categorical\n",
    "# father, mother and child: numerical"
   ]
  },
  {
   "cell_type": "code",
   "execution_count": null,
   "metadata": {},
   "outputs": [],
   "source": [
    "# distribution of heights\n",
    "pd.plotting.scatter_matrix(heights.drop('gender', axis=1));"
   ]
  },
  {
   "cell_type": "markdown",
   "metadata": {
    "slideshow": {
     "slide_type": "slide"
    }
   },
   "source": [
    "## Simulating missing data"
   ]
  },
  {
   "cell_type": "code",
   "execution_count": null,
   "metadata": {},
   "outputs": [],
   "source": [
    "# create missing data\n",
    "# How was it created?\n",
    "np.random.seed(42)\n",
    "\n",
    "heights_mcar = heights.copy()\n",
    "idx = heights_mcar.sample(frac=0.3).index\n",
    "heights_mcar.loc[idx, 'child'] = np.NaN"
   ]
  },
  {
   "cell_type": "code",
   "execution_count": null,
   "metadata": {},
   "outputs": [],
   "source": [
    "heights_mcar.isnull().mean()"
   ]
  },
  {
   "cell_type": "markdown",
   "metadata": {
    "slideshow": {
     "slide_type": "slide"
    }
   },
   "source": [
    "### Verifying that child heights are MCAR in `heights_mcar`\n",
    "* Check the data look the 'same' when `height` is null vs not-null\n",
    "    - Is the empirical distribution of gender similar for null/not-null?\n",
    "    - Is the empirical distribution of heights similar for null/not-null?"
   ]
  },
  {
   "cell_type": "code",
   "execution_count": null,
   "metadata": {},
   "outputs": [],
   "source": [
    "heights_mcar.sample(n=10)"
   ]
  },
  {
   "cell_type": "code",
   "execution_count": null,
   "metadata": {},
   "outputs": [],
   "source": [
    "# conditinal empirical distribution of gender by null and not-null\n",
    "\n",
    "distr = (\n",
    "    heights_mcar\n",
    "    .assign(is_null=heights_mcar.child.isnull())\n",
    "    .pivot_table(index='is_null', columns='gender', aggfunc='size')\n",
    ")\n",
    "distr = (distr.T / distr.sum(axis=1)).T\n",
    "distr\n",
    "\n",
    "# rows add up to 1, proportion of male/female"
   ]
  },
  {
   "cell_type": "markdown",
   "metadata": {
    "slideshow": {
     "slide_type": "slide"
    }
   },
   "source": [
    "### Comparing Null vs. Non-Null (`child`) distributions: `gender`\n",
    "\n",
    "* Are the distributions 'similar enough'? \n",
    "    - If yes, then missingness of `child` is *not* dependent on `gender`\n",
    "* We have \n",
    "    - two groups: missing and not missing\n",
    "    - We have distribution for these two groups\n",
    "    - Are these distributions similar?\n",
    "* Use a permutation test to assess the two distributions are similar.\n",
    "* For categorical distributions, what test statistic should we use?"
   ]
  },
  {
   "cell_type": "code",
   "execution_count": null,
   "metadata": {},
   "outputs": [],
   "source": [
    "distr.T.plot(kind='bar');"
   ]
  },
  {
   "cell_type": "code",
   "execution_count": null,
   "metadata": {},
   "outputs": [],
   "source": [
    "n_repetitions = 500\n",
    "\n",
    "tvds = []\n",
    "for _ in range(n_repetitions):\n",
    "    \n",
    "    # shuffle the gender column\n",
    "    shuffled_col = (\n",
    "        heights_mcar['gender']\n",
    "        .sample(replace=False, frac=1)\n",
    "        .reset_index(drop=True)\n",
    "    )\n",
    "    \n",
    "    # put them in a table\n",
    "    shuffled = (\n",
    "        heights_mcar\n",
    "        .assign(**{\n",
    "            'gender': shuffled_col,\n",
    "            'is_null': heights_mcar['child'].isnull()\n",
    "        })\n",
    "    )\n",
    "    \n",
    "    # compute the tvd\n",
    "    shuffled = (\n",
    "        shuffled\n",
    "        .pivot_table(index='is_null', columns='gender', aggfunc='size')\n",
    "        .apply(lambda x:x / x.sum(), axis=1)\n",
    "    )\n",
    "    \n",
    "    tvd = shuffled.diff().iloc[-1].abs().sum() / 2\n",
    "    # add it to the list of results\n",
    "    \n",
    "    tvds.append(tvd)"
   ]
  },
  {
   "cell_type": "code",
   "execution_count": null,
   "metadata": {},
   "outputs": [],
   "source": []
  },
  {
   "cell_type": "code",
   "execution_count": null,
   "metadata": {},
   "outputs": [],
   "source": [
    "obs = distr.diff().iloc[-1].abs().sum() / 2\n",
    "obs"
   ]
  },
  {
   "cell_type": "code",
   "execution_count": null,
   "metadata": {},
   "outputs": [],
   "source": [
    "# The similarity is very high\n",
    "pval = np.mean(tvds > obs)\n",
    "pd.Series(tvds).plot(kind='hist', density=True, alpha=0.8, title='p-value: %f' % pval)\n",
    "plt.scatter(obs, 0, color='red', s=40);"
   ]
  },
  {
   "cell_type": "markdown",
   "metadata": {
    "slideshow": {
     "slide_type": "slide"
    }
   },
   "source": [
    "### Comparing Null vs. Non-Null (`child` height) distributions: `father` (height)\n",
    "\n",
    "* Are the distributions 'similar enough'? \n",
    "    - If yes, then missingness of `child` is *not* dependent on height of `father`.\n",
    "    - If no, then e.g. taller fathers are more likely to not report child height.\n",
    "* In this case, it's 'clear' the distributions are similar.\n",
    "- Assess with permutation test.\n",
    "- As test statistic, use something like difference in means."
   ]
  },
  {
   "cell_type": "code",
   "execution_count": null,
   "metadata": {},
   "outputs": [],
   "source": [
    "# heights: counts\n",
    "# how much child data is missing?\n",
    "# Shape? \n",
    "(\n",
    "    heights_mcar\n",
    "    .assign(is_null=heights_mcar.child.isnull())\n",
    "    .groupby('is_null')\n",
    "    .father\n",
    "    .plot(kind='hist', legend=True, title='father height by missingness of child height')\n",
    ");"
   ]
  },
  {
   "cell_type": "code",
   "execution_count": null,
   "metadata": {},
   "outputs": [],
   "source": [
    "# heights: distributions\n",
    "(\n",
    "    heights_mcar\n",
    "    .assign(is_null=heights_mcar.child.isnull())\n",
    "    .groupby('is_null')\n",
    "    .father\n",
    "    .plot(kind='kde', legend=True, title='father height by missingness of child height')\n",
    ");"
   ]
  },
  {
   "cell_type": "markdown",
   "metadata": {
    "slideshow": {
     "slide_type": "slide"
    }
   },
   "source": [
    "### Child heights data: MAR\n",
    "* MAR is an *assumption* from the data\n",
    "    - Is it reasonable to assume that a missing `child` height is explainable using the gender of the child and the height of the parents?\n",
    "* Once MAR is assumed, can show data is *not* MCAR\n",
    "    - Show how missingness of `child` depends on other columns."
   ]
  },
  {
   "cell_type": "code",
   "execution_count": null,
   "metadata": {},
   "outputs": [],
   "source": [
    "# build MAR dataset\n",
    "# blank rows based on conditions\n",
    "\n",
    "\n",
    "heights_mar = heights.copy()\n",
    "for i, row in heights.iterrows():\n",
    "    rand = np.random.uniform()\n",
    "    if (row['father'] > 72) and rand < 0.5:\n",
    "        heights_mar.loc[i, 'child'] = np.NaN\n",
    "    elif (row['gender'] == 'female') and rand > 0.7:\n",
    "        heights_mar.loc[i, 'child'] = np.NaN\n"
   ]
  },
  {
   "cell_type": "code",
   "execution_count": null,
   "metadata": {},
   "outputs": [],
   "source": [
    "# different missingness rates -- not MCAR\n",
    "\n",
    "distr = (\n",
    "    heights_mar\n",
    "    .assign(is_null=heights_mar.child.isnull())\n",
    "    .pivot_table(index='is_null', columns='gender', aggfunc='size')\n",
    "    .apply(lambda x:x / x.sum(), axis=1)\n",
    ")\n",
    "distr.T.plot(kind='bar', title='Distribution of Gender when child height is null/not-null');"
   ]
  },
  {
   "cell_type": "code",
   "execution_count": null,
   "metadata": {},
   "outputs": [],
   "source": [
    "# How is it going to affect the stats of the child hights?\n",
    "# It is going to create bias upward (larger than usual), \n",
    "# because women are on average shorter than men"
   ]
  },
  {
   "cell_type": "code",
   "execution_count": null,
   "metadata": {},
   "outputs": [],
   "source": [
    "# Different missingness rates -- not MCAR\n",
    "# Distribution of fathers heights when child's height is null/not null \n",
    "# Why is the right side of the graph different?\n",
    "\n",
    "(\n",
    "    heights_mar\n",
    "    .assign(is_null=heights_mar.child.isnull())\n",
    "    .groupby('is_null')\n",
    "    .father\n",
    "    .plot(kind='kde', legend=True, title='father height by missingness of child height')\n",
    ");"
   ]
  },
  {
   "cell_type": "markdown",
   "metadata": {
    "slideshow": {
     "slide_type": "slide"
    }
   },
   "source": [
    "### Missingness of `child` attribute: MAR case\n",
    "\n",
    "* The distributions above are clearly different.\n",
    "* What if their similarity was harder to determine? \n",
    "    - Permutation Test: are the distributions of column `X` when `child` is Null/Not-Null different?\n",
    "* For dependence on a categorical attribute: use TVD for the test-statistic.\n",
    "* For dependence on a quantitative attribute: ???"
   ]
  },
  {
   "cell_type": "markdown",
   "metadata": {
    "slideshow": {
     "slide_type": "slide"
    }
   },
   "source": [
    "### Part 3\n",
    "\n",
    "# Kolmogorov-Smirnov Test Statistics"
   ]
  },
  {
   "cell_type": "markdown",
   "metadata": {
    "slideshow": {
     "slide_type": "slide"
    }
   },
   "source": [
    "## A/B Tests\n",
    "\n",
    "- Do empirical distribution A and empirical distribution B actually come from the same underlying distribution?\n",
    "    - test this with a permutation test\n",
    "- If A and B are *categorical* distributions, use TVD.\n",
    "- If A and B are *quantitative* distributions, use, e.g., (absolute) difference in means."
   ]
  },
  {
   "cell_type": "markdown",
   "metadata": {},
   "source": [
    "## Difference in means"
   ]
  },
  {
   "cell_type": "code",
   "execution_count": null,
   "metadata": {},
   "outputs": [],
   "source": [
    "N = 1000 # number of samples for each distribution\n",
    "\n",
    "# Distribution 'A'\n",
    "distr1 = pd.Series(np.random.normal(0, 1, size=N//2))\n",
    "\n",
    "# Distribution 'B'\n",
    "distr2 = pd.Series(np.random.normal(3, 1, size=N//2))"
   ]
  },
  {
   "cell_type": "code",
   "execution_count": null,
   "metadata": {},
   "outputs": [],
   "source": [
    "data = pd.concat([distr1, distr2], axis=1, keys=['A', 'B']).unstack().reset_index().drop('level_1', axis=1)\n",
    "data = data.rename(columns={'level_0': 'group', 0: 'data'})\n"
   ]
  },
  {
   "cell_type": "code",
   "execution_count": null,
   "metadata": {},
   "outputs": [],
   "source": [
    "mA, mB = data.groupby('group')['data'].mean().tolist()\n",
    "title = 'mean of A: %f\\n mean of B: %f' % (mA, mB)\n",
    "\n",
    "data.groupby('group')['data'].plot(kind='kde', legend=True, title=title);"
   ]
  },
  {
   "cell_type": "markdown",
   "metadata": {
    "slideshow": {
     "slide_type": "slide"
    }
   },
   "source": [
    "### Discussion Question\n",
    "\n",
    "* We determined that two distributions were likely different because their means were different.\n",
    "* Can you think of two *different* distributions with the same mean?\n",
    "* What would our permutation test say about these distributions?"
   ]
  },
  {
   "cell_type": "markdown",
   "metadata": {
    "slideshow": {
     "slide_type": "slide"
    }
   },
   "source": [
    "### Different distributions; same mean\n",
    "\n",
    "What does a permutation test using the test-statistic \"difference in means\" differentiate between distributions with similar means?"
   ]
  },
  {
   "cell_type": "code",
   "execution_count": null,
   "metadata": {},
   "outputs": [],
   "source": [
    "N = 1000 # number of samples for each distribution\n",
    "\n",
    "# Distribution 'A'\n",
    "a = pd.Series(np.random.normal(0, 1, size=N//2))\n",
    "b = pd.Series(np.random.normal(4, 1, size=N//2))\n",
    "distr1 = pd.concat([a,b], ignore_index=True)\n",
    "\n",
    "# Distribution 'B'\n",
    "distr2 = pd.Series(np.random.normal(distr1.mean(), distr1.std(), size=N))"
   ]
  },
  {
   "cell_type": "code",
   "execution_count": null,
   "metadata": {},
   "outputs": [],
   "source": [
    "data = pd.concat([distr1, distr2], axis=1, keys=['A', 'B']).unstack().reset_index().drop('level_1', axis=1)\n",
    "data = data.rename(columns={'level_0': 'group', 0: 'data'})\n"
   ]
  },
  {
   "cell_type": "code",
   "execution_count": null,
   "metadata": {},
   "outputs": [],
   "source": [
    "mA, mB = data.groupby('group')['data'].mean().tolist()\n",
    "title = 'mean of A: %f\\n mean of B: %f' % (mA, mB)\n",
    "\n",
    "data.groupby('group')['data'].plot(kind='kde', legend=True, title=title);"
   ]
  },
  {
   "cell_type": "code",
   "execution_count": null,
   "metadata": {},
   "outputs": [],
   "source": [
    "n_repetitions = 500\n",
    "\n",
    "means = []\n",
    "for _ in range(n_repetitions):\n",
    "    \n",
    "    # shuffle the gender column\n",
    "    shuffled_col = (\n",
    "        data['data']\n",
    "        .sample(replace=False, frac=1)\n",
    "        .reset_index(drop=True)\n",
    "    )\n",
    "    \n",
    "    # put them in a table\n",
    "    shuffled = (\n",
    "        data\n",
    "        .assign(**{\n",
    "            'data': shuffled_col,\n",
    "        })\n",
    "    )\n",
    "    \n",
    "    # compute the differences in means\n",
    "    mean = shuffled.groupby('group')['data'].mean().diff().abs().iloc[-1]\n",
    "    \n",
    "    means.append(mean)\n",
    "    \n",
    "    \n",
    "obs = data.groupby('group')['data'].mean().diff().abs().iloc[-1]\n",
    "\n",
    "pval = np.mean(means > obs)\n",
    "\n",
    "pd.Series(means).plot(kind='hist', density=True, alpha=0.8, title='p-value: %f' % pval)\n",
    "\n",
    "plt.scatter(obs, 0, color='red', s=40);"
   ]
  },
  {
   "cell_type": "markdown",
   "metadata": {
    "slideshow": {
     "slide_type": "slide"
    }
   },
   "source": [
    "### Telling quantitative distributions apart\n",
    "\n",
    "* Difference in means works for A/B testing *only* if the two distributions have similar shapes\n",
    "    - It actually tests to see if one is a shifted version of the other\n",
    "* Need a better test-statistic to differentiate between shape of distributions!\n",
    "* Need a 'distance' between quantitative distributions:\n",
    "    - Measure the (absolute) difference between probabilities for nearby events?\n",
    "    - Why can't we use TVD?  (It is not categorical)"
   ]
  },
  {
   "cell_type": "code",
   "execution_count": null,
   "metadata": {},
   "outputs": [],
   "source": [
    "data.groupby('group')['data'].plot(kind='kde', legend=True);"
   ]
  },
  {
   "cell_type": "markdown",
   "metadata": {
    "slideshow": {
     "slide_type": "slide"
    }
   },
   "source": [
    "## KS-Statistic\n",
    "    \n",
    "* Kolmogorov-Smirnov test-statistic: similarity between two distributions.\n",
    "* Defined using the *Cumulative Distribution Function* instead of density function.\n",
    "* KS-statistics roughly measures the largest difference between two empirical CDFs.\n",
    "* Python library: `scipy.stats.ks_2samp`\n",
    "\n",
    "<img src=./imgs/KS2_Example.png width=50%>"
   ]
  },
  {
   "cell_type": "code",
   "execution_count": null,
   "metadata": {
    "slideshow": {
     "slide_type": "slide"
    }
   },
   "outputs": [],
   "source": [
    "from scipy.stats import ks_2samp"
   ]
  },
  {
   "cell_type": "code",
   "execution_count": null,
   "metadata": {},
   "outputs": [],
   "source": [
    "help(ks_2samp)"
   ]
  },
  {
   "cell_type": "code",
   "execution_count": null,
   "metadata": {},
   "outputs": [],
   "source": [
    "gpA = data.loc[data['group'] == 'A', 'data']\n",
    "gpB = data.loc[data['group'] == 'B', 'data']\n",
    "\n",
    "obs = ks_2samp(gpA, gpB).statistic\n",
    "obs"
   ]
  },
  {
   "cell_type": "code",
   "execution_count": null,
   "metadata": {},
   "outputs": [],
   "source": [
    "n_repetitions = 500\n",
    "\n",
    "ks_list = []\n",
    "for _ in range(n_repetitions):\n",
    "    \n",
    "    # shuffle the gender column\n",
    "    shuffled_col = (\n",
    "        data['data']\n",
    "        .sample(replace=False, frac=1)\n",
    "        .reset_index(drop=True)\n",
    "    )\n",
    "    \n",
    "    # put them in a table\n",
    "    shuffled = (\n",
    "        data\n",
    "        .assign(**{\n",
    "            'data': shuffled_col,\n",
    "        })\n",
    "    )\n",
    "    \n",
    "    # compute the KS\n",
    "    grps = shuffled.groupby('group')['data']\n",
    "    ks = ks_2samp(grps.get_group('A'), grps.get_group('B')).statistic\n",
    "    \n",
    "    ks_list.append(ks)\n",
    "    \n",
    "\n",
    "pval = np.mean(np.array(ks_list) > obs)\n",
    "\n",
    "pd.Series(ks_list).plot(kind='hist', density=True, alpha=0.8, title='p-value: %f' % pval)\n",
    "\n",
    "plt.scatter(obs, 0, color='red', s=40);"
   ]
  },
  {
   "cell_type": "markdown",
   "metadata": {
    "slideshow": {
     "slide_type": "slide"
    }
   },
   "source": [
    "### The `ks_2samp` function\n",
    "\n",
    "* `scipy.stats.ks_2samp` actually returns *both* the statistic *and* a p-value.\n",
    "* The p-value is calculated using the permutation test we just performed!"
   ]
  },
  {
   "cell_type": "code",
   "execution_count": null,
   "metadata": {},
   "outputs": [],
   "source": [
    "ks_2samp(gpA, gpB)"
   ]
  },
  {
   "cell_type": "markdown",
   "metadata": {
    "slideshow": {
     "slide_type": "slide"
    }
   },
   "source": [
    "### Part 4\n",
    "\n",
    "# Examples of Assessing Missingness"
   ]
  },
  {
   "cell_type": "markdown",
   "metadata": {
    "slideshow": {
     "slide_type": "slide"
    }
   },
   "source": [
    "## Summary: Diagnosing Missingness Mechanisms\n",
    "\n",
    "### Case: NMAR\n",
    "\n",
    "* Can you make a reasonable case that the differences in missing vs not missing is largely explainable via *observed* data?\n",
    "    - If yes, then the missing data (column) 'missing at random' and the missing data is 'ignorable' (when handled properly).\n",
    "    - If no, then the missing data is 'not missing at random' (NMAR), or 'non-ignorable'. You must explicitly model missingness using assumptions on the data generating process."
   ]
  },
  {
   "cell_type": "markdown",
   "metadata": {
    "slideshow": {
     "slide_type": "slide"
    }
   },
   "source": [
    "## Summary: Diagnosing Missingness Mechanisms\n",
    "\n",
    "### Case: MAR\n",
    "\n",
    "* If missingness is explainable via *observed* data, then the missing data is 'missing at random' (MAR).\n",
    "* The distribution of missing data may still look different than the observed data!\n",
    "    - MAR requires you to understand how the missingness is dependent on other attributes in your data.\n",
    "* Use permutation tests to assess the dependence of missing data on other attributes."
   ]
  },
  {
   "cell_type": "markdown",
   "metadata": {
    "slideshow": {
     "slide_type": "slide"
    }
   },
   "source": [
    "## Summary: Diagnosing Missingness Mechanisms\n",
    "\n",
    "### Case: MCAR\n",
    "\n",
    "* If missingness doesn't depend on any values in the observed data, it is 'unconditionally ignorable' (MCAR).\n",
    "* MCAR is equivalent to data being MAR, without dependence on any other columns.\n",
    "* If permutation tests point toward similar distributions of missing vs not-missing data, for *every* other column, then the data *may* be MCAR.\n",
    "    - Caution: you can't assert the data *are* MCAR, as permutation tests don't allow you to accept the null hypothesis!"
   ]
  },
  {
   "cell_type": "markdown",
   "metadata": {
    "slideshow": {
     "slide_type": "slide"
    }
   },
   "source": [
    "## Example: Assessing Missingness\n",
    "\n",
    "* Data on ticketed cars: VIN, Make, Year, Color\n",
    "* Is car color missing at random, dependent on car year?\n",
    "    * Are the distributions of year similar when color is null vs not null?\n",
    "    * How similar is similar enough?\n",
    "    \n",
    "Use a permutation test!"
   ]
  },
  {
   "cell_type": "code",
   "execution_count": null,
   "metadata": {},
   "outputs": [],
   "source": [
    "cars = pd.read_csv('./data/cars.csv')\n",
    "cars.head()"
   ]
  },
  {
   "cell_type": "code",
   "execution_count": null,
   "metadata": {},
   "outputs": [],
   "source": [
    "# proportion of car color missing\n",
    "cars.car_color.isnull().mean()"
   ]
  },
  {
   "cell_type": "code",
   "execution_count": null,
   "metadata": {},
   "outputs": [],
   "source": [
    "cars['car_color_isnull'] = cars.car_color.isnull()"
   ]
  },
  {
   "cell_type": "code",
   "execution_count": null,
   "metadata": {},
   "outputs": [],
   "source": [
    "(\n",
    "    cars\n",
    "    .pivot_table(index='car_year', columns='car_color_isnull', values=None, aggfunc='size')\n",
    "    .fillna(0)\n",
    "    .apply(lambda x:x/x.sum())\n",
    "    .plot(title='distribution of car years by color=missing/not missing')\n",
    ");"
   ]
  },
  {
   "cell_type": "markdown",
   "metadata": {},
   "source": [
    "### Example: assessing missingness of car make on color\n",
    "\n",
    "* \"Are the two distributions (missing/not missing) of car make generated from the same distribution?\"\n",
    "* Car make is categorical. How to measure similarity?\n",
    "    - use total variation distance"
   ]
  },
  {
   "cell_type": "code",
   "execution_count": null,
   "metadata": {},
   "outputs": [],
   "source": [
    "cars['car_make'].isnull().mean()"
   ]
  },
  {
   "cell_type": "code",
   "execution_count": null,
   "metadata": {},
   "outputs": [],
   "source": [
    "cars['car_make_isnull'] = cars.car_make.isnull()"
   ]
  },
  {
   "cell_type": "code",
   "execution_count": null,
   "metadata": {},
   "outputs": [],
   "source": [
    "cars.head()"
   ]
  },
  {
   "cell_type": "code",
   "execution_count": null,
   "metadata": {},
   "outputs": [],
   "source": [
    "emp_distributions = (\n",
    "    cars\n",
    "    .pivot_table(columns='car_make_isnull', index='car_color', values=None, aggfunc='size')\n",
    "    .fillna(0)\n",
    "    .apply(lambda x:x/x.sum())\n",
    ")\n",
    "\n",
    "emp_distributions.plot(kind='bar', title='distribution of car colors');"
   ]
  },
  {
   "cell_type": "code",
   "execution_count": null,
   "metadata": {},
   "outputs": [],
   "source": [
    "observed_tvd = np.sum(np.abs(emp_distributions.diff(axis=1).iloc[:,-1])) / 2\n",
    "observed_tvd"
   ]
  },
  {
   "cell_type": "code",
   "execution_count": null,
   "metadata": {},
   "outputs": [],
   "source": [
    "n_repetitions = 500\n",
    "\n",
    "car_make_color = cars.copy()[['car_color', 'car_make_isnull']]\n",
    "tvds = []\n",
    "for _ in range(n_repetitions):\n",
    "    \n",
    "    # shuffle the colors\n",
    "    shuffled_colors = (\n",
    "        car_make_color['car_color']\n",
    "        .sample(replace=False, frac=1)\n",
    "        .reset_index(drop=True)\n",
    "    )\n",
    "    \n",
    "    # put them in a table\n",
    "    shuffled = (\n",
    "        car_make_color\n",
    "        .assign(**{'Shuffled Color': shuffled_colors})\n",
    "    )\n",
    "    \n",
    "    # compute the tvd\n",
    "    shuffed_emp_distributions = (\n",
    "        shuffled\n",
    "        .pivot_table(columns='car_make_isnull', index='Shuffled Color', values=None, aggfunc='size')\n",
    "        .fillna(0)\n",
    "        .apply(lambda x:x/x.sum())\n",
    "    )\n",
    "    \n",
    "    tvd = np.sum(np.abs(shuffed_emp_distributions.diff(axis=1).iloc[:,-1])) / 2\n",
    "    # add it to the list of results\n",
    "    \n",
    "    tvds.append(tvd)"
   ]
  },
  {
   "cell_type": "code",
   "execution_count": null,
   "metadata": {},
   "outputs": [],
   "source": [
    "#: visualize\n",
    "pd.Series(tvds).plot(kind='hist', density=True, alpha=0.8)\n",
    "plt.scatter(observed_tvd, 0, color='red', s=40);"
   ]
  },
  {
   "cell_type": "markdown",
   "metadata": {
    "slideshow": {
     "slide_type": "slide"
    }
   },
   "source": [
    "### Example: assessing missingness in payments data\n",
    "\n",
    "* Payment information for purchases: credit card type, credit card number, date of birth.\n",
    "* Is the credit card number missing at random dependent on the type of card?"
   ]
  },
  {
   "cell_type": "code",
   "execution_count": null,
   "metadata": {},
   "outputs": [],
   "source": [
    "payments = pd.read_csv('data/payment.csv')\n",
    "payments['cc_isnull'] = payments.credit_card_number.isnull()"
   ]
  },
  {
   "cell_type": "code",
   "execution_count": null,
   "metadata": {},
   "outputs": [],
   "source": [
    "payments.head()"
   ]
  },
  {
   "cell_type": "code",
   "execution_count": null,
   "metadata": {},
   "outputs": [],
   "source": [
    "emp_distributions = (\n",
    "    payments\n",
    "    .pivot_table(columns='cc_isnull', index='credit_card_type', aggfunc='size')\n",
    "    .fillna(0)\n",
    "    .apply(lambda x:x / x.sum())\n",
    ")\n",
    "\n",
    "emp_distributions.plot(kind='bar', title='distribution of card types');"
   ]
  },
  {
   "cell_type": "code",
   "execution_count": null,
   "metadata": {},
   "outputs": [],
   "source": [
    "observed_tvd = np.sum(np.abs(emp_distributions.diff(axis=1).iloc[:,-1])) / 2\n",
    "observed_tvd"
   ]
  },
  {
   "cell_type": "code",
   "execution_count": null,
   "metadata": {},
   "outputs": [],
   "source": [
    "n_repetitions = 500\n",
    "\n",
    "payments_type = payments.copy()[['credit_card_type', 'cc_isnull']]\n",
    "tvds = []\n",
    "for _ in range(n_repetitions):\n",
    "    \n",
    "    # shuffle the colors\n",
    "    shuffled_types = (\n",
    "        payments_type['credit_card_type']\n",
    "        .sample(replace=False, frac=1)\n",
    "        .reset_index(drop=True)\n",
    "    )\n",
    "    \n",
    "    # put them in a table\n",
    "    shuffled = (\n",
    "        payments_type\n",
    "        .assign(**{'Shuffled Types': shuffled_types})\n",
    "    )\n",
    "    \n",
    "    # compute the tvd\n",
    "    shuffed_emp_distributions = (\n",
    "        shuffled\n",
    "        .pivot_table(columns='cc_isnull', index='Shuffled Types', values=None, aggfunc='size')\n",
    "        .fillna(0)\n",
    "        .apply(lambda x:x/x.sum())\n",
    "    )\n",
    "    \n",
    "    tvd = np.sum(np.abs(shuffed_emp_distributions.diff(axis=1).iloc[:,-1])) / 2\n",
    "    # add it to the list of results\n",
    "    \n",
    "    tvds.append(tvd)"
   ]
  },
  {
   "cell_type": "markdown",
   "metadata": {
    "slideshow": {
     "slide_type": "slide"
    }
   },
   "source": [
    "### Example: assessing missingness in payments data\n",
    "\n",
    "* Is the credit card number missing at random dependent on the type of card?\n",
    "* As always, set significance level **beforehand**:\n",
    "    - How important is the column in the modeling process?\n",
    "    - How many null values are there?\n",
    "* Consideration: how important is a faithful imputation?"
   ]
  },
  {
   "cell_type": "code",
   "execution_count": null,
   "metadata": {},
   "outputs": [],
   "source": [
    "#: visualize\n",
    "pd.Series(tvds).plot(kind='hist', density=True, alpha=0.8)\n",
    "plt.scatter(observed_tvd, 0, color='red', s=40);"
   ]
  },
  {
   "cell_type": "code",
   "execution_count": null,
   "metadata": {},
   "outputs": [],
   "source": [
    "# p-value\n",
    "np.count_nonzero(tvds <= observed_tvd) / len(tvds)"
   ]
  },
  {
   "cell_type": "markdown",
   "metadata": {
    "slideshow": {
     "slide_type": "slide"
    }
   },
   "source": [
    "### Example: assessing missingness in payments data\n",
    "\n",
    "* Is the credit card number missing at random dependent on the age of shopper?\n",
    "* For quantitative distributions, we've compared means of two groups."
   ]
  },
  {
   "cell_type": "code",
   "execution_count": null,
   "metadata": {},
   "outputs": [],
   "source": [
    "payments['date_of_birth'] = pd.to_datetime(payments.date_of_birth)\n",
    "payments['age'] = (2019 - payments.date_of_birth.dt.year)"
   ]
  },
  {
   "cell_type": "code",
   "execution_count": null,
   "metadata": {},
   "outputs": [],
   "source": [
    "# are the distributions similar?\n",
    "# Where are the differences? Are they noise, or real?\n",
    "payments.groupby('cc_isnull').age.plot(kind='kde', title='distribution of ages by missingness of CC', legend=True);"
   ]
  },
  {
   "cell_type": "code",
   "execution_count": null,
   "metadata": {},
   "outputs": [],
   "source": [
    "ks_2samp?"
   ]
  },
  {
   "cell_type": "code",
   "execution_count": null,
   "metadata": {},
   "outputs": [],
   "source": [
    "ks_2samp(\n",
    "    payments.groupby('cc_isnull')['age'].get_group(True),\n",
    "    payments.groupby('cc_isnull')['age'].get_group(False)\n",
    ")"
   ]
  },
  {
   "cell_type": "code",
   "execution_count": null,
   "metadata": {},
   "outputs": [],
   "source": []
  },
  {
   "cell_type": "code",
   "execution_count": null,
   "metadata": {},
   "outputs": [],
   "source": []
  },
  {
   "cell_type": "code",
   "execution_count": null,
   "metadata": {},
   "outputs": [],
   "source": []
  }
 ],
 "metadata": {
  "celltoolbar": "Slideshow",
  "kernelspec": {
   "display_name": "Python 3",
   "language": "python",
   "name": "python3"
  },
  "language_info": {
   "codemirror_mode": {
    "name": "ipython",
    "version": 3
   },
   "file_extension": ".py",
   "mimetype": "text/x-python",
   "name": "python",
   "nbconvert_exporter": "python",
   "pygments_lexer": "ipython3",
   "version": "3.8.9"
  },
  "livereveal": {
   "scroll": true,
   "transition": "none"
  }
 },
 "nbformat": 4,
 "nbformat_minor": 2
}
